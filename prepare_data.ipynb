{
 "cells": [
  {
   "cell_type": "markdown",
   "metadata": {},
   "source": [
    "### Import libraries, metadata"
   ]
  },
  {
   "cell_type": "code",
   "execution_count": null,
   "metadata": {
    "ExecuteTime": {
     "end_time": "2019-12-18T06:01:56.263558Z",
     "start_time": "2019-12-18T06:01:51.717351Z"
    }
   },
   "outputs": [],
   "source": [
    "import os\n",
    "import librosa\n",
    "from librosa.filters import mel as librosa_mel_fn\n",
    "import pickle as pkl\n",
    "import IPython.display as ipd\n",
    "from tqdm.notebook import tqdm\n",
    "import torch\n",
    "import numpy as np\n",
    "import codecs\n",
    "import matplotlib.pyplot as plt\n",
    "%matplotlib inline\n",
    "\n",
    "from g2p_en import G2p\n",
    "from text import *\n",
    "from text import cmudict\n",
    "from text.cleaners import custom_english_cleaners\n",
    "from text.symbols import symbols\n",
    "\n",
    "# Mappings from symbol to numeric ID and vice versa:\n",
    "symbol_to_id = {s: i for i, s in enumerate(symbols)}\n",
    "id_to_symbol = {i: s for i, s in enumerate(symbols)}\n",
    "\n",
    "csv_file = '../Dataset/LJSpeech-1.1/metadata.csv'\n",
    "root_dir = '../Dataset/LJSpeech-1.1/wavs'\n",
    "data_dir = '../Dataset/LJSpeech-1.1/preprocessed'\n",
    "\n",
    "g2p = G2p()\n",
    "metadata={}\n",
    "with codecs.open(csv_file, 'r', 'utf-8') as fid:\n",
    "    for line in fid.readlines():\n",
    "        id, _, text = line.split(\"|\")\n",
    "        \n",
    "        clean_char = custom_english_cleaners(text.rstrip())\n",
    "        clean_phone = []\n",
    "        for s in g2p(clean_char.lower()):\n",
    "            if '@'+s in symbol_to_id:\n",
    "                clean_phone.append('@'+s)\n",
    "            else:\n",
    "                clean_phone.append(s)\n",
    "        \n",
    "        metadata[id]={'char':clean_char,\n",
    "                     'phone':clean_phone}"
   ]
  },
  {
   "cell_type": "markdown",
   "metadata": {},
   "source": [
    "### Others"
   ]
  },
  {
   "cell_type": "code",
   "execution_count": null,
   "metadata": {},
   "outputs": [],
   "source": [
    "from layers import TacotronSTFT\n",
    "stft = TacotronSTFT()\n",
    "\n",
    "def text2seq(text):\n",
    "    sequence=[symbol_to_id['^']]\n",
    "    sequence.extend([symbol_to_id[c] for c in text])\n",
    "    sequence.append(symbol_to_id['~'])\n",
    "    return sequence\n",
    "\n",
    "\n",
    "def get_mel(filename):\n",
    "    wav, sr = librosa.load(filename, sr=22050)\n",
    "    wav = torch.FloatTensor(wav.astype(np.float32))\n",
    "    melspec = stft.mel_spectrogram(wav.unsqueeze(0))\n",
    "    return melspec.squeeze(0).numpy(), wav\n",
    "\n",
    "\n",
    "def save_file(fname):\n",
    "    wav_name = os.path.join(root_dir, fname) + '.wav'\n",
    "    text = metadata[fname]['char']\n",
    "    char_seq = np.asarray( text2seq(metadata[fname]['char']), dtype=np.int64 )\n",
    "    phone_seq = np.asarray( text2seq(metadata[fname]['phone']), dtype=np.int64 )\n",
    "    \n",
    "    melspec, wav = get_mel(wav_name)\n",
    "    \n",
    "    np.save(f'{data_dir}/char_seq/{fname}_sequence.npy', char_seq)\n",
    "    np.save(f'{data_dir}/phone_seq/{fname}_sequence.npy', phone_seq)\n",
    "    np.save(f'{data_dir}/melspectrogram/{fname}_melspectrogram.npy', melspec)\n",
    "    \n",
    "    return text, char_seq, phone_seq, melspec, wav"
   ]
  },
  {
   "cell_type": "markdown",
   "metadata": {},
   "source": [
    "### Save and Inspect Data"
   ]
  },
  {
   "cell_type": "code",
   "execution_count": null,
   "metadata": {
    "ExecuteTime": {
     "start_time": "2019-12-18T06:01:23.402Z"
    },
    "code_folding": [],
    "scrolled": false
   },
   "outputs": [],
   "source": [
    "mel_values = []\n",
    "for k in tqdm(metadata.keys()):\n",
    "    text, char_seq, phone_seq, melspec, wav = save_file(k)\n",
    "    mel_values.extend(list(melspec.reshape(-1)))\n",
    "    if k == 'LJ001-0019':\n",
    "        print(\"Text:\")\n",
    "        print(text)\n",
    "        print()\n",
    "        print(\"Melspectrogram:\")\n",
    "        plt.figure(figsize=(16,4))\n",
    "        plt.imshow(melspec, aspect='auto', origin='lower')\n",
    "        plt.show()\n",
    "\n",
    "mel_values = np.asarray(mel_values)\n",
    "plt.hist(mel_values[:100000], bins=100)"
   ]
  }
 ],
 "metadata": {
  "kernelspec": {
   "display_name": "Environment (conda_pytorch_p36)",
   "language": "python",
   "name": "conda_pytorch_p36"
  },
  "language_info": {
   "codemirror_mode": {
    "name": "ipython",
    "version": 3
   },
   "file_extension": ".py",
   "mimetype": "text/x-python",
   "name": "python",
   "nbconvert_exporter": "python",
   "pygments_lexer": "ipython3",
   "version": "3.6.5"
  },
  "varInspector": {
   "cols": {
    "lenName": 16,
    "lenType": 16,
    "lenVar": 40
   },
   "kernels_config": {
    "python": {
     "delete_cmd_postfix": "",
     "delete_cmd_prefix": "del ",
     "library": "var_list.py",
     "varRefreshCmd": "print(var_dic_list())"
    },
    "r": {
     "delete_cmd_postfix": ") ",
     "delete_cmd_prefix": "rm(",
     "library": "var_list.r",
     "varRefreshCmd": "cat(var_dic_list()) "
    }
   },
   "types_to_exclude": [
    "module",
    "function",
    "builtin_function_or_method",
    "instance",
    "_Feature"
   ],
   "window_display": false
  }
 },
 "nbformat": 4,
 "nbformat_minor": 2
}
