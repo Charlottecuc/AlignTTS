{
 "cells": [
  {
   "cell_type": "code",
   "execution_count": 1,
   "metadata": {
    "scrolled": true
   },
   "outputs": [],
   "source": [
    "import os, argparse\n",
    "import torch\n",
    "import torch.nn as nn\n",
    "import torch.nn.functional as F\n",
    "from modules.model import Model\n",
    "from modules.loss import MDNLoss\n",
    "import hparams\n",
    "from text import *\n",
    "from utils.utils import *\n",
    "from utils.writer import get_writer\n",
    "from torch.utils.tensorboard import SummaryWriter\n",
    "import math\n",
    "\n",
    "os.environ[\"CUDA_VISIBLE_DEVICES\"]='0, 1'\n",
    "torch.manual_seed(hparams.seed)\n",
    "torch.cuda.manual_seed(hparams.seed)\n",
    "    \n",
    "train_loader, val_loader, collate_fn = prepare_dataloaders(hparams)\n",
    "model = nn.DataParallel(Model(hparams)).cuda()\n",
    "criterion = MDNLoss()\n",
    "optimizer = torch.optim.Adam(model.parameters(),\n",
    "                             lr=hparams.lr,\n",
    "                             betas=(0.9, 0.98),\n",
    "                             eps=1e-09)"
   ]
  },
  {
   "cell_type": "code",
   "execution_count": 2,
   "metadata": {},
   "outputs": [
    {
     "name": "stdout",
     "output_type": "stream",
     "text": [
      "Training Start!!!\n"
     ]
    },
    {
     "name": "stderr",
     "output_type": "stream",
     "text": [
      "/home/ubuntu/anaconda3/envs/pytorch_p36/AlignTTS/utils/utils.py:44: UserWarning: To copy construct from a tensor, it is recommended to use sourceTensor.clone().detach() or sourceTensor.clone().detach().requires_grad_(True), rather than tensor.new_tensor(sourceTensor).\n",
      "  ids = lengths.new_tensor(torch.arange(0, max_len))\n",
      "/home/ubuntu/anaconda3/envs/pytorch_p36/lib/python3.6/site-packages/torch/nn/parallel/_functions.py:61: UserWarning: Was asked to gather along dimension 0, but all input tensors were scalars; will instead unsqueeze and return a vector.\n",
      "  warnings.warn('Was asked to gather along dimension 0, but all '\n"
     ]
    },
    {
     "name": "stdout",
     "output_type": "stream",
     "text": [
      "Loss (0): 7083.978515625\n",
      "Loss (10): 7006.9267578125\n",
      "Loss (20): 6540.830078125\n",
      "Loss (30): 6789.6240234375\n",
      "Loss (40): 6518.220703125\n",
      "Loss (50): 5833.9619140625\n",
      "Loss (60): 5603.52734375\n",
      "Loss (70): 5355.4697265625\n",
      "Loss (80): 5085.9853515625\n",
      "Loss (90): 4981.39453125\n",
      "Loss (100): 4892.7568359375\n",
      "Loss (110): 4700.94921875\n",
      "Loss (120): 4823.7666015625\n",
      "Loss (130): 4404.1572265625\n",
      "Loss (140): 4422.609375\n",
      "Loss (150): 4080.638427734375\n"
     ]
    },
    {
     "ename": "KeyboardInterrupt",
     "evalue": "",
     "output_type": "error",
     "traceback": [
      "\u001b[0;31m---------------------------------------------------------------------------\u001b[0m",
      "\u001b[0;31mKeyboardInterrupt\u001b[0m                         Traceback (most recent call last)",
      "\u001b[0;32m<ipython-input-2-d26b1a86bbd2>\u001b[0m in \u001b[0;36m<module>\u001b[0;34m()\u001b[0m\n\u001b[1;32m     16\u001b[0m                      stage=0)\n\u001b[1;32m     17\u001b[0m     \u001b[0msub_loss\u001b[0m \u001b[0;34m=\u001b[0m \u001b[0mmdn_loss\u001b[0m\u001b[0;34m.\u001b[0m\u001b[0mmean\u001b[0m\u001b[0;34m(\u001b[0m\u001b[0;34m)\u001b[0m\u001b[0;34m/\u001b[0m\u001b[0mhparams\u001b[0m\u001b[0;34m.\u001b[0m\u001b[0maccumulation\u001b[0m\u001b[0;34m\u001b[0m\u001b[0m\n\u001b[0;32m---> 18\u001b[0;31m     \u001b[0msub_loss\u001b[0m\u001b[0;34m.\u001b[0m\u001b[0mbackward\u001b[0m\u001b[0;34m(\u001b[0m\u001b[0;34m)\u001b[0m\u001b[0;34m\u001b[0m\u001b[0m\n\u001b[0m\u001b[1;32m     19\u001b[0m     \u001b[0mloss\u001b[0m \u001b[0;34m=\u001b[0m \u001b[0mloss\u001b[0m\u001b[0;34m+\u001b[0m\u001b[0msub_loss\u001b[0m\u001b[0;34m.\u001b[0m\u001b[0mitem\u001b[0m\u001b[0;34m(\u001b[0m\u001b[0;34m)\u001b[0m\u001b[0;34m\u001b[0m\u001b[0m\n\u001b[1;32m     20\u001b[0m     \u001b[0;32mif\u001b[0m \u001b[0mi\u001b[0m\u001b[0;34m%\u001b[0m\u001b[0;36m10\u001b[0m\u001b[0;34m==\u001b[0m\u001b[0;36m0\u001b[0m\u001b[0;34m:\u001b[0m \u001b[0mprint\u001b[0m\u001b[0;34m(\u001b[0m\u001b[0;34mf'Loss ({i}): {loss}'\u001b[0m\u001b[0;34m)\u001b[0m\u001b[0;34m\u001b[0m\u001b[0m\n",
      "\u001b[0;32m~/anaconda3/envs/pytorch_p36/lib/python3.6/site-packages/torch/tensor.py\u001b[0m in \u001b[0;36mbackward\u001b[0;34m(self, gradient, retain_graph, create_graph)\u001b[0m\n\u001b[1;32m    193\u001b[0m                 \u001b[0mproducts\u001b[0m\u001b[0;34m.\u001b[0m \u001b[0mDefaults\u001b[0m \u001b[0mto\u001b[0m\u001b[0;31m \u001b[0m\u001b[0;31m`\u001b[0m\u001b[0;31m`\u001b[0m\u001b[0;32mFalse\u001b[0m\u001b[0;31m`\u001b[0m\u001b[0;31m`\u001b[0m\u001b[0;34m.\u001b[0m\u001b[0;34m\u001b[0m\u001b[0m\n\u001b[1;32m    194\u001b[0m         \"\"\"\n\u001b[0;32m--> 195\u001b[0;31m         \u001b[0mtorch\u001b[0m\u001b[0;34m.\u001b[0m\u001b[0mautograd\u001b[0m\u001b[0;34m.\u001b[0m\u001b[0mbackward\u001b[0m\u001b[0;34m(\u001b[0m\u001b[0mself\u001b[0m\u001b[0;34m,\u001b[0m \u001b[0mgradient\u001b[0m\u001b[0;34m,\u001b[0m \u001b[0mretain_graph\u001b[0m\u001b[0;34m,\u001b[0m \u001b[0mcreate_graph\u001b[0m\u001b[0;34m)\u001b[0m\u001b[0;34m\u001b[0m\u001b[0m\n\u001b[0m\u001b[1;32m    196\u001b[0m \u001b[0;34m\u001b[0m\u001b[0m\n\u001b[1;32m    197\u001b[0m     \u001b[0;32mdef\u001b[0m \u001b[0mregister_hook\u001b[0m\u001b[0;34m(\u001b[0m\u001b[0mself\u001b[0m\u001b[0;34m,\u001b[0m \u001b[0mhook\u001b[0m\u001b[0;34m)\u001b[0m\u001b[0;34m:\u001b[0m\u001b[0;34m\u001b[0m\u001b[0m\n",
      "\u001b[0;32m~/anaconda3/envs/pytorch_p36/lib/python3.6/site-packages/torch/autograd/__init__.py\u001b[0m in \u001b[0;36mbackward\u001b[0;34m(tensors, grad_tensors, retain_graph, create_graph, grad_variables)\u001b[0m\n\u001b[1;32m     97\u001b[0m     Variable._execution_engine.run_backward(\n\u001b[1;32m     98\u001b[0m         \u001b[0mtensors\u001b[0m\u001b[0;34m,\u001b[0m \u001b[0mgrad_tensors\u001b[0m\u001b[0;34m,\u001b[0m \u001b[0mretain_graph\u001b[0m\u001b[0;34m,\u001b[0m \u001b[0mcreate_graph\u001b[0m\u001b[0;34m,\u001b[0m\u001b[0;34m\u001b[0m\u001b[0m\n\u001b[0;32m---> 99\u001b[0;31m         allow_unreachable=True)  # allow_unreachable flag\n\u001b[0m\u001b[1;32m    100\u001b[0m \u001b[0;34m\u001b[0m\u001b[0m\n\u001b[1;32m    101\u001b[0m \u001b[0;34m\u001b[0m\u001b[0m\n",
      "\u001b[0;31mKeyboardInterrupt\u001b[0m: "
     ]
    }
   ],
   "source": [
    "iteration, loss = 0, 0\n",
    "model.train()\n",
    "print(\"Training Start!!!\")\n",
    "for i, batch in enumerate(train_loader):\n",
    "    text_padded, text_lengths, mel_padded, mel_lengths = [\n",
    "        reorder_batch(x, hparams.n_gpus).cuda() for x in batch\n",
    "    ]\n",
    "    mel_padded = (mel_padded - torch.min(mel_padded))/torch.max((mel_padded - torch.min(mel_padded)))\n",
    "\n",
    "    mdn_loss = model(text_padded,\n",
    "                     mel_padded,\n",
    "                     None,\n",
    "                     text_lengths,\n",
    "                     mel_lengths,\n",
    "                     criterion,\n",
    "                     stage=0)\n",
    "    sub_loss = mdn_loss.mean()/hparams.accumulation\n",
    "    sub_loss.backward()\n",
    "    loss = loss+sub_loss.item()\n",
    "    if i%10==0: print(f'Loss ({i}): {loss}')\n",
    "\n",
    "    iteration += 1\n",
    "    if iteration%hparams.accumulation == 0:\n",
    "        lr_scheduling(optimizer, iteration//hparams.accumulation)\n",
    "        nn.utils.clip_grad_norm_(model.parameters(), hparams.grad_clip_thresh)\n",
    "        optimizer.step()\n",
    "        model.zero_grad()\n",
    "        loss=0"
   ]
  },
  {
   "cell_type": "markdown",
   "metadata": {},
   "source": [
    "#    \n",
    "#    \n",
    "#    \n",
    "#    \n",
    "#    \n",
    "#    \n",
    "#    \n",
    "#    "
   ]
  },
  {
   "cell_type": "code",
   "execution_count": null,
   "metadata": {},
   "outputs": [],
   "source": [
    "def validate(model, criterion, val_loader, iteration, writer):\n",
    "    model.eval()\n",
    "    with torch.no_grad():\n",
    "        n_data, val_loss = 0, 0\n",
    "        for i, batch in enumerate(val_loader):\n",
    "            n_data += len(batch[0])\n",
    "            text_padded, text_lengths, mel_padded, mel_lengths, gate_padded = [\n",
    "                x.cuda() for x in batch\n",
    "            ]\n",
    "            \n",
    "            mel_out, mel_out_post,\\\n",
    "            enc_alignments, dec_alignments, enc_dec_alignments, gate_out = model.module.outputs(text_padded,\n",
    "                                                                                                mel_padded,\n",
    "                                                                                                text_lengths,\n",
    "                                                                                                mel_lengths)\n",
    "        \n",
    "            mel_loss, bce_loss, guide_loss = criterion((mel_out, mel_out_post, gate_out),\n",
    "                                                       (mel_padded, gate_padded),\n",
    "                                                       (enc_dec_alignments, text_lengths, mel_lengths))\n",
    "            \n",
    "            loss = torch.mean(mel_loss+bce_loss+guide_loss)\n",
    "            val_loss += loss.item() * len(batch[0])\n",
    "\n",
    "        val_loss /= n_data\n",
    "\n",
    "    writer.add_losses(mel_loss.item(),\n",
    "                      bce_loss.item(),\n",
    "                      guide_loss.item(),\n",
    "                      iteration//hparams.accumulation, 'Validation')\n",
    "    \n",
    "    writer.add_specs(mel_padded.detach().cpu(),\n",
    "                     mel_out.detach().cpu(),\n",
    "                     mel_out_post.detach().cpu(),\n",
    "                     mel_lengths.detach().cpu(),\n",
    "                     iteration//hparams.accumulation, 'Validation')\n",
    "    \n",
    "    writer.add_alignments(enc_alignments.detach().cpu(),\n",
    "                          dec_alignments.detach().cpu(),\n",
    "                          enc_dec_alignments.detach().cpu(),\n",
    "                          text_padded.detach().cpu(),\n",
    "                          mel_lengths.detach().cpu(),\n",
    "                          text_lengths.detach().cpu(),\n",
    "                          iteration//hparams.accumulation, 'Validation')\n",
    "    \n",
    "    writer.add_gates(gate_out.detach().cpu(),\n",
    "                    iteration//hparams.accumulation, 'Validation')\n",
    "    model.train()"
   ]
  }
 ],
 "metadata": {
  "kernelspec": {
   "display_name": "Environment (conda_pytorch_p36)",
   "language": "python",
   "name": "conda_pytorch_p36"
  },
  "language_info": {
   "codemirror_mode": {
    "name": "ipython",
    "version": 3
   },
   "file_extension": ".py",
   "mimetype": "text/x-python",
   "name": "python",
   "nbconvert_exporter": "python",
   "pygments_lexer": "ipython3",
   "version": "3.6.5"
  }
 },
 "nbformat": 4,
 "nbformat_minor": 2
}
