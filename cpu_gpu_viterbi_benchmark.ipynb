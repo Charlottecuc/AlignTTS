{
 "cells": [
  {
   "cell_type": "markdown",
   "metadata": {},
   "source": [
    "# Run this code twice after the stage0 and stage0"
   ]
  },
  {
   "cell_type": "code",
   "execution_count": 1,
   "metadata": {},
   "outputs": [
    {
     "name": "stdout",
     "output_type": "stream",
     "text": [
      "training_log/aligntts/stage0/checkpoint_40000\n"
     ]
    }
   ],
   "source": [
    "import os\n",
    "os.environ[\"CUDA_VISIBLE_DEVICES\"]='0'\n",
    "\n",
    "import warnings\n",
    "warnings.filterwarnings(\"ignore\")\n",
    "\n",
    "import sys\n",
    "sys.path.append('waveglow/')\n",
    "\n",
    "import matplotlib.pyplot as plt\n",
    "%matplotlib inline\n",
    "\n",
    "import IPython.display as ipd\n",
    "import pickle as pkl\n",
    "import torch\n",
    "import torch.nn.functional as F\n",
    "import hparams\n",
    "from torch.utils.data import DataLoader\n",
    "from modules.model import Model\n",
    "from text import text_to_sequence, sequence_to_text\n",
    "from denoiser import Denoiser\n",
    "from tqdm import tqdm_notebook as tqdm\n",
    "import librosa\n",
    "from modules.loss import MDNLoss\n",
    "import math\n",
    "from multiprocessing import Pool\n",
    "import numpy as np\n",
    "\n",
    "data_type = 'char'\n",
    "checkpoint_path = f\"training_log/aligntts/stage0/checkpoint_40000\"\n",
    "\n",
    "from glob import glob\n",
    "\n",
    "# checkpoint_path = sorted(glob(\"training_log/aligntts/stage0/checkpoint_*\"))[-1]\n",
    "\n",
    "print(checkpoint_path)\n",
    "\n",
    "\n",
    "state_dict = {}\n",
    "for k, v in torch.load(checkpoint_path)['state_dict'].items():\n",
    "    state_dict[k[7:]]=v\n",
    "\n",
    "\n",
    "model = Model(hparams).cuda()\n",
    "model.load_state_dict(state_dict)\n",
    "_ = model.cuda().eval()\n",
    "criterion = MDNLoss()"
   ]
  },
  {
   "cell_type": "code",
   "execution_count": 2,
   "metadata": {},
   "outputs": [],
   "source": [
    "import time"
   ]
  },
  {
   "cell_type": "code",
   "execution_count": 3,
   "metadata": {
    "scrolled": false
   },
   "outputs": [
    {
     "data": {
      "application/vnd.jupyter.widget-view+json": {
       "model_id": "672b6d9829c4415eabb8761c06839f0b",
       "version_major": 2,
       "version_minor": 0
      },
      "text/plain": [
       "HBox(children=(FloatProgress(value=1.0, bar_style='info', max=1.0), HTML(value='')))"
      ]
     },
     "metadata": {},
     "output_type": "display_data"
    },
    {
     "name": "stdout",
     "output_type": "stream",
     "text": [
      "VT Time:  0.328456 / 0.689838 = 47.61%\n",
      "IO Time:  0.007548 / 0.689838 =  1.09%\n",
      "DL Time:  0.351875 / 0.689838 = 51.01%\n",
      "\n",
      "VT Time:  0.537944 / 0.718666 = 74.85%\n",
      "IO Time:  0.006255 / 0.718666 =  0.87%\n",
      "DL Time:  0.172813 / 0.718666 = 24.05%\n",
      "\n",
      "VT Time:  0.388770 / 0.570464 = 68.15%\n",
      "IO Time:  0.006215 / 0.570464 =  1.09%\n",
      "DL Time:  0.173757 / 0.570464 = 30.46%\n",
      "\n",
      "VT Time:  0.771784 / 0.955549 = 80.77%\n",
      "IO Time:  0.006236 / 0.955549 =  0.65%\n",
      "DL Time:  0.175656 / 0.955549 = 18.38%\n",
      "\n",
      "VT Time:  0.281851 / 0.483085 = 58.34%\n",
      "IO Time:  0.008502 / 0.483085 =  1.76%\n",
      "DL Time:  0.184141 / 0.483085 = 38.12%\n",
      "\n",
      "VT Time:  0.308661 / 0.473071 = 65.25%\n",
      "IO Time:  0.006027 / 0.473071 =  1.27%\n",
      "DL Time:  0.156760 / 0.473071 = 33.14%\n",
      "\n",
      "\n"
     ]
    },
    {
     "data": {
      "application/vnd.jupyter.widget-view+json": {
       "model_id": "038b5082db53465c80b428873d094e30",
       "version_major": 2,
       "version_minor": 0
      },
      "text/plain": [
       "HBox(children=(FloatProgress(value=1.0, bar_style='info', max=1.0), HTML(value='')))"
      ]
     },
     "metadata": {},
     "output_type": "display_data"
    },
    {
     "name": "stdout",
     "output_type": "stream",
     "text": [
      "VT Time:  0.698476 / 0.908651 = 76.87%\n",
      "IO Time:  0.008725 / 0.908651 =  0.96%\n",
      "DL Time:  0.199437 / 0.908651 = 21.95%\n",
      "\n",
      "VT Time:  0.334133 / 0.487728 = 68.51%\n",
      "IO Time:  0.006090 / 0.487728 =  1.25%\n",
      "DL Time:  0.145989 / 0.487728 = 29.93%\n",
      "\n",
      "VT Time:  0.330283 / 0.523225 = 63.12%\n",
      "IO Time:  0.006205 / 0.523225 =  1.19%\n",
      "DL Time:  0.184709 / 0.523225 = 35.30%\n",
      "\n",
      "VT Time:  0.592178 / 0.780659 = 75.86%\n",
      "IO Time:  0.006253 / 0.780659 =  0.80%\n",
      "DL Time:  0.180463 / 0.780659 = 23.12%\n",
      "\n",
      "VT Time:  0.384609 / 0.545889 = 70.46%\n",
      "IO Time:  0.006090 / 0.545889 =  1.12%\n",
      "DL Time:  0.153518 / 0.545889 = 28.12%\n",
      "\n",
      "VT Time:  0.660129 / 0.862951 = 76.50%\n",
      "IO Time:  0.006022 / 0.862951 =  0.70%\n",
      "DL Time:  0.193690 / 0.862951 = 22.45%\n",
      "\n",
      "\n"
     ]
    },
    {
     "data": {
      "application/vnd.jupyter.widget-view+json": {
       "model_id": "0c13a7a7e7dd4db7a27669a48a3d407e",
       "version_major": 2,
       "version_minor": 0
      },
      "text/plain": [
       "HBox(children=(FloatProgress(value=1.0, bar_style='info', max=1.0), HTML(value='')))"
      ]
     },
     "metadata": {},
     "output_type": "display_data"
    },
    {
     "name": "stdout",
     "output_type": "stream",
     "text": [
      "VT Time:  0.340391 / 0.512507 = 66.42%\n",
      "IO Time:  0.005833 / 0.512507 =  1.14%\n",
      "DL Time:  0.164089 / 0.512507 = 32.02%\n",
      "\n",
      "VT Time:  0.401949 / 0.599483 = 67.05%\n",
      "IO Time:  0.006904 / 0.599483 =  1.15%\n",
      "DL Time:  0.187803 / 0.599483 = 31.33%\n",
      "\n",
      "VT Time:  0.539260 / 0.714146 = 75.51%\n",
      "IO Time:  0.006417 / 0.714146 =  0.90%\n",
      "DL Time:  0.165879 / 0.714146 = 23.23%\n",
      "\n",
      "VT Time:  0.358492 / 0.550398 = 65.13%\n",
      "IO Time:  0.005935 / 0.550398 =  1.08%\n",
      "DL Time:  0.184229 / 0.550398 = 33.47%\n",
      "\n",
      "VT Time:  0.661965 / 0.895034 = 73.96%\n",
      "IO Time:  0.006058 / 0.895034 =  0.68%\n",
      "DL Time:  0.215317 / 0.895034 = 24.06%\n",
      "\n",
      "VT Time:  0.517605 / 0.721623 = 71.73%\n",
      "IO Time:  0.006131 / 0.721623 =  0.85%\n",
      "DL Time:  0.195064 / 0.721623 = 27.03%\n",
      "\n",
      "\n"
     ]
    }
   ],
   "source": [
    "datasets = ['train', 'val', 'test']\n",
    "batch_size=64\n",
    "batch_size = 16\n",
    "\n",
    "start = time.perf_counter()\n",
    "\n",
    "for dataset in datasets:\n",
    "    \n",
    "    with open(f'filelists/ljs_audio_text_{dataset}_filelist.txt', 'r') as f:\n",
    "        lines_raw = [line.split('|') for line in f.read().splitlines()]\n",
    "        lines_list = [ lines_raw[batch_size*i:batch_size*(i+1)] \n",
    "                      for i in range(len(lines_raw)//batch_size+1)]\n",
    "        \n",
    "    for num, batch in tqdm(enumerate(lines_list)):\n",
    "        \n",
    "        single_loop_start = time.perf_counter()\n",
    "        \n",
    "        file_list, text_list, mel_list = [], [], []\n",
    "        text_lengths, mel_lengths=[], []\n",
    "        \n",
    "        for i in range(len(batch)):\n",
    "            file_name, _, text = batch[i]\n",
    "            file_list.append(file_name)\n",
    "            seq_path = os.path.join('../Dataset/LJSpeech-1.1/preprocessed',\n",
    "                               f'{data_type}_seq')\n",
    "            mel_path = os.path.join('../Dataset/LJSpeech-1.1/preprocessed',\n",
    "                               'melspectrogram')\n",
    "            try:\n",
    "                seq = torch.from_numpy(np.load(f'{seq_path}/{file_name}_sequence.npy'))\n",
    "            except FileNotFoundError:\n",
    "                with open(f'{seq_path}/{file_name}_sequence.pkl', 'rb') as f:\n",
    "                    seq = pkl.load(f)\n",
    "            \n",
    "            try:\n",
    "                mel = torch.from_numpy(np.load(f'{mel_path}/{file_name}_melspectrogram.npy'))\n",
    "            except FileNotFoundError:\n",
    "                with open(f'{mel_path}/{file_name}_melspectrogram.pkl', 'rb') as f:\n",
    "                    mel = pkl.load(f)\n",
    "            \n",
    "            text_list.append(seq)\n",
    "            mel_list.append(mel)\n",
    "            text_lengths.append(seq.size(0))\n",
    "            mel_lengths.append(mel.size(1))\n",
    "            \n",
    "        io_time = time.perf_counter()\n",
    "            \n",
    "        text_lengths = torch.LongTensor(text_lengths)\n",
    "        mel_lengths = torch.LongTensor(mel_lengths)\n",
    "        text_padded = torch.zeros(len(batch), text_lengths.max().item(), dtype=torch.long)\n",
    "        mel_padded = torch.zeros(len(batch), hparams.n_mel_channels, mel_lengths.max().item())\n",
    "        \n",
    "        for j in range(len(batch)):\n",
    "            text_padded[j, :text_list[j].size(0)] = text_list[j]\n",
    "            mel_padded[j, :, :mel_list[j].size(1)] = mel_list[j]\n",
    "        \n",
    "        text_padded = text_padded.cuda()\n",
    "        mel_padded = mel_padded.cuda()\n",
    "        text_lengths = text_lengths.cuda()\n",
    "        mel_lengths = mel_lengths.cuda()\n",
    "        \n",
    "        with torch.no_grad():\n",
    "            \n",
    "            model_start = time.perf_counter()\n",
    "            \n",
    "            encoder_input = model.Prenet(text_padded)\n",
    "            hidden_states, _ = model.FFT_lower(encoder_input, text_lengths)\n",
    "            mu_sigma = model.get_mu_sigma(hidden_states)\n",
    "            _, log_prob_matrix = criterion(mu_sigma, mel_padded, text_lengths, mel_lengths)\n",
    "            \n",
    "            viterbi_start = time.perf_counter()\n",
    "\n",
    "            align = model.viterbi(log_prob_matrix, text_lengths, mel_lengths).to(torch.long)\n",
    "            alignments = list(torch.split(align,1))\n",
    "            \n",
    "            viterbi_end = time.perf_counter()\n",
    "        \n",
    "        print('VT Time: ', end=' ')\n",
    "        print(f'{viterbi_end - viterbi_start:.6f} / {viterbi_end - single_loop_start:.6f} = ' +\n",
    "             f'{(viterbi_end - viterbi_start) / (viterbi_end - single_loop_start) * 100:5.2f}%')\n",
    "        \n",
    "        print('IO Time: ', end=' ')\n",
    "        print(f'{io_time - single_loop_start:.6f} / {viterbi_end - single_loop_start:.6f} = ' +\n",
    "             f'{(io_time - single_loop_start) / (viterbi_end - single_loop_start) * 100:5.2f}%')\n",
    "        \n",
    "        print('DL Time: ', end=' ')\n",
    "        print(f'{viterbi_start - model_start:.6f} / {viterbi_end - single_loop_start:.6f} = ' +\n",
    "             f'{(viterbi_start - model_start) / (viterbi_end - single_loop_start) * 100:5.2f}%')\n",
    "        \n",
    "#         print(alignments[0].shape)\n",
    "\n",
    "        print()\n",
    "        \n",
    "        if num >= 5:\n",
    "            break\n",
    "       \n",
    "#         for j, (l, t) in enumerate(zip(text_lengths, mel_lengths)):\n",
    "#             alignments[j] = alignments[j][0, :l.item(), :t.item()].sum(dim=-1)\n",
    "#             np.save(f'../Dataset/LJSpeech-1.1/preprocessed/alignments/{file_list[j]}_alignment.npy',\n",
    "#                     alignments[j].detach().cpu().numpy())"
   ]
  },
  {
   "cell_type": "code",
   "execution_count": 4,
   "metadata": {},
   "outputs": [
    {
     "data": {
      "application/vnd.jupyter.widget-view+json": {
       "model_id": "640b1cd56a68467cb86cc8c6fddb8203",
       "version_major": 2,
       "version_minor": 0
      },
      "text/plain": [
       "HBox(children=(FloatProgress(value=1.0, bar_style='info', max=1.0), HTML(value='')))"
      ]
     },
     "metadata": {},
     "output_type": "display_data"
    },
    {
     "name": "stdout",
     "output_type": "stream",
     "text": [
      "VT Time:  0.154995 / 0.370217 = 41.87%\n",
      "IO Time:  0.006096 / 0.370217 =  1.65%\n",
      "DL Time:  0.202699 / 0.370217 = 54.75%\n",
      "\n",
      "VT Time:  0.141098 / 0.375438 = 37.58%\n",
      "IO Time:  0.006999 / 0.375438 =  1.86%\n",
      "DL Time:  0.220038 / 0.375438 = 58.61%\n",
      "\n",
      "VT Time:  0.183458 / 0.367585 = 49.91%\n",
      "IO Time:  0.007175 / 0.367585 =  1.95%\n",
      "DL Time:  0.175275 / 0.367585 = 47.68%\n",
      "\n",
      "VT Time:  0.188948 / 0.451633 = 41.84%\n",
      "IO Time:  0.012213 / 0.451633 =  2.70%\n",
      "DL Time:  0.248239 / 0.451633 = 54.96%\n",
      "\n",
      "VT Time:  0.144518 / 0.341290 = 42.34%\n",
      "IO Time:  0.006642 / 0.341290 =  1.95%\n",
      "DL Time:  0.188535 / 0.341290 = 55.24%\n",
      "\n",
      "VT Time:  0.154774 / 0.377819 = 40.97%\n",
      "IO Time:  0.007465 / 0.377819 =  1.98%\n",
      "DL Time:  0.208595 / 0.377819 = 55.21%\n",
      "\n",
      "\n"
     ]
    },
    {
     "data": {
      "application/vnd.jupyter.widget-view+json": {
       "model_id": "ea54a83813ca4950aa2c0f9ffaa02a35",
       "version_major": 2,
       "version_minor": 0
      },
      "text/plain": [
       "HBox(children=(FloatProgress(value=1.0, bar_style='info', max=1.0), HTML(value='')))"
      ]
     },
     "metadata": {},
     "output_type": "display_data"
    },
    {
     "name": "stdout",
     "output_type": "stream",
     "text": [
      "VT Time:  0.116120 / 0.275899 = 42.09%\n",
      "IO Time:  0.007051 / 0.275899 =  2.56%\n",
      "DL Time:  0.151035 / 0.275899 = 54.74%\n",
      "\n",
      "VT Time:  0.115267 / 0.270026 = 42.69%\n",
      "IO Time:  0.007296 / 0.270026 =  2.70%\n",
      "DL Time:  0.145896 / 0.270026 = 54.03%\n",
      "\n",
      "VT Time:  0.157664 / 0.391994 = 40.22%\n",
      "IO Time:  0.007333 / 0.391994 =  1.87%\n",
      "DL Time:  0.222842 / 0.391994 = 56.85%\n",
      "\n",
      "VT Time:  0.164338 / 0.378136 = 43.46%\n",
      "IO Time:  0.007392 / 0.378136 =  1.95%\n",
      "DL Time:  0.204683 / 0.378136 = 54.13%\n",
      "\n",
      "VT Time:  0.145388 / 0.355010 = 40.95%\n",
      "IO Time:  0.010538 / 0.355010 =  2.97%\n",
      "DL Time:  0.194228 / 0.355010 = 54.71%\n",
      "\n",
      "VT Time:  0.170986 / 0.386790 = 44.21%\n",
      "IO Time:  0.007945 / 0.386790 =  2.05%\n",
      "DL Time:  0.205217 / 0.386790 = 53.06%\n",
      "\n",
      "\n"
     ]
    },
    {
     "data": {
      "application/vnd.jupyter.widget-view+json": {
       "model_id": "4a5226849a2d46d6b21d8d8ad455702d",
       "version_major": 2,
       "version_minor": 0
      },
      "text/plain": [
       "HBox(children=(FloatProgress(value=1.0, bar_style='info', max=1.0), HTML(value='')))"
      ]
     },
     "metadata": {},
     "output_type": "display_data"
    },
    {
     "name": "stdout",
     "output_type": "stream",
     "text": [
      "VT Time:  0.176422 / 0.451842 = 39.05%\n",
      "IO Time:  0.008898 / 0.451842 =  1.97%\n",
      "DL Time:  0.260036 / 0.451842 = 57.55%\n",
      "\n",
      "VT Time:  0.158505 / 0.372225 = 42.58%\n",
      "IO Time:  0.009028 / 0.372225 =  2.43%\n",
      "DL Time:  0.202823 / 0.372225 = 54.49%\n",
      "\n",
      "VT Time:  0.231486 / 0.468632 = 49.40%\n",
      "IO Time:  0.008404 / 0.468632 =  1.79%\n",
      "DL Time:  0.226909 / 0.468632 = 48.42%\n",
      "\n",
      "VT Time:  0.151420 / 0.373891 = 40.50%\n",
      "IO Time:  0.008572 / 0.373891 =  2.29%\n",
      "DL Time:  0.205855 / 0.373891 = 55.06%\n",
      "\n",
      "VT Time:  0.152578 / 0.398423 = 38.30%\n",
      "IO Time:  0.006721 / 0.398423 =  1.69%\n",
      "DL Time:  0.231784 / 0.398423 = 58.18%\n",
      "\n",
      "VT Time:  0.175580 / 0.366029 = 47.97%\n",
      "IO Time:  0.006845 / 0.366029 =  1.87%\n",
      "DL Time:  0.181851 / 0.366029 = 49.68%\n",
      "\n",
      "\n"
     ]
    }
   ],
   "source": [
    "datasets = ['train', 'val', 'test']\n",
    "batch_size=64\n",
    "batch_size = 16\n",
    "\n",
    "start = time.perf_counter()\n",
    "\n",
    "for dataset in datasets:\n",
    "    \n",
    "    with open(f'filelists/ljs_audio_text_{dataset}_filelist.txt', 'r') as f:\n",
    "        lines_raw = [line.split('|') for line in f.read().splitlines()]\n",
    "        lines_list = [ lines_raw[batch_size*i:batch_size*(i+1)] \n",
    "                      for i in range(len(lines_raw)//batch_size+1)]\n",
    "        \n",
    "    for num, batch in tqdm(enumerate(lines_list)):\n",
    "        \n",
    "        single_loop_start = time.perf_counter()\n",
    "        \n",
    "        file_list, text_list, mel_list = [], [], []\n",
    "        text_lengths, mel_lengths=[], []\n",
    "        \n",
    "        for i in range(len(batch)):\n",
    "            file_name, _, text = batch[i]\n",
    "            file_list.append(file_name)\n",
    "            seq_path = os.path.join('../Dataset/LJSpeech-1.1/preprocessed',\n",
    "                               f'{data_type}_seq')\n",
    "            mel_path = os.path.join('../Dataset/LJSpeech-1.1/preprocessed',\n",
    "                               'melspectrogram')\n",
    "            try:\n",
    "                seq = torch.from_numpy(np.load(f'{seq_path}/{file_name}_sequence.npy'))\n",
    "            except FileNotFoundError:\n",
    "                with open(f'{seq_path}/{file_name}_sequence.pkl', 'rb') as f:\n",
    "                    seq = pkl.load(f)\n",
    "            \n",
    "            try:\n",
    "                mel = torch.from_numpy(np.load(f'{mel_path}/{file_name}_melspectrogram.npy'))\n",
    "            except FileNotFoundError:\n",
    "                with open(f'{mel_path}/{file_name}_melspectrogram.pkl', 'rb') as f:\n",
    "                    mel = pkl.load(f)\n",
    "            \n",
    "            text_list.append(seq)\n",
    "            mel_list.append(mel)\n",
    "            text_lengths.append(seq.size(0))\n",
    "            mel_lengths.append(mel.size(1))\n",
    "            \n",
    "        io_time = time.perf_counter()\n",
    "            \n",
    "        text_lengths = torch.LongTensor(text_lengths)\n",
    "        mel_lengths = torch.LongTensor(mel_lengths)\n",
    "        text_padded = torch.zeros(len(batch), text_lengths.max().item(), dtype=torch.long)\n",
    "        mel_padded = torch.zeros(len(batch), hparams.n_mel_channels, mel_lengths.max().item())\n",
    "        \n",
    "        for j in range(len(batch)):\n",
    "            text_padded[j, :text_list[j].size(0)] = text_list[j]\n",
    "            mel_padded[j, :, :mel_list[j].size(1)] = mel_list[j]\n",
    "        \n",
    "        text_padded = text_padded.cuda()\n",
    "        mel_padded = mel_padded.cuda()\n",
    "        text_lengths = text_lengths.cuda()\n",
    "        mel_lengths = mel_lengths.cuda()\n",
    "        \n",
    "        with torch.no_grad():\n",
    "            \n",
    "            model_start = time.perf_counter()\n",
    "            \n",
    "            encoder_input = model.Prenet(text_padded)\n",
    "            hidden_states, _ = model.FFT_lower(encoder_input, text_lengths)\n",
    "            mu_sigma = model.get_mu_sigma(hidden_states)\n",
    "            _, log_prob_matrix = criterion(mu_sigma, mel_padded, text_lengths, mel_lengths)\n",
    "            \n",
    "            viterbi_start = time.perf_counter()\n",
    "\n",
    "            align = model.viterbi_cpu(log_prob_matrix, text_lengths.cpu(), mel_lengths.cpu()).to(torch.long)\n",
    "            alignments = list(torch.split(align,1))\n",
    "            \n",
    "            viterbi_end = time.perf_counter()\n",
    "        \n",
    "        print('VT Time: ', end=' ')\n",
    "        print(f'{viterbi_end - viterbi_start:.6f} / {viterbi_end - single_loop_start:.6f} = ' +\n",
    "             f'{(viterbi_end - viterbi_start) / (viterbi_end - single_loop_start) * 100:5.2f}%')\n",
    "        \n",
    "        print('IO Time: ', end=' ')\n",
    "        print(f'{io_time - single_loop_start:.6f} / {viterbi_end - single_loop_start:.6f} = ' +\n",
    "             f'{(io_time - single_loop_start) / (viterbi_end - single_loop_start) * 100:5.2f}%')\n",
    "        \n",
    "        print('DL Time: ', end=' ')\n",
    "        print(f'{viterbi_start - model_start:.6f} / {viterbi_end - single_loop_start:.6f} = ' +\n",
    "             f'{(viterbi_start - model_start) / (viterbi_end - single_loop_start) * 100:5.2f}%')\n",
    "        \n",
    "#         print(alignments[0].shape)\n",
    "\n",
    "        print()\n",
    "        \n",
    "        if num >= 5:\n",
    "            break\n",
    "       \n",
    "#         for j, (l, t) in enumerate(zip(text_lengths, mel_lengths)):\n",
    "#             alignments[j] = alignments[j][0, :l.item(), :t.item()].sum(dim=-1)\n",
    "#             np.save(f'../Dataset/LJSpeech-1.1/preprocessed/alignments/{file_list[j]}_alignment.npy',\n",
    "#                     alignments[j].detach().cpu().numpy())"
   ]
  },
  {
   "cell_type": "code",
   "execution_count": 5,
   "metadata": {
    "scrolled": false
   },
   "outputs": [
    {
     "data": {
      "application/vnd.jupyter.widget-view+json": {
       "model_id": "c2f2368fcb304947acdab2fe003ed776",
       "version_major": 2,
       "version_minor": 0
      },
      "text/plain": [
       "HBox(children=(FloatProgress(value=1.0, bar_style='info', max=1.0), HTML(value='')))"
      ]
     },
     "metadata": {},
     "output_type": "display_data"
    },
    {
     "name": "stdout",
     "output_type": "stream",
     "text": [
      "VT_ Time:  0.748012\n",
      "VTF Time:  0.154824 / 0.351953 = 43.99%\n",
      "IO_ Time:  0.007186 / 0.351953 =  2.04%\n",
      "DL_ Time:  0.187973 / 0.351953 = 53.41%\n",
      "\n",
      "VT_ Time:  0.380354\n",
      "VTF Time:  0.138768 / 0.315039 = 44.05%\n",
      "IO_ Time:  0.006336 / 0.315039 =  2.01%\n",
      "DL_ Time:  0.168183 / 0.315039 = 53.38%\n",
      "\n",
      "VT_ Time:  0.743523\n",
      "VTF Time:  0.179107 / 0.370350 = 48.36%\n",
      "IO_ Time:  0.006254 / 0.370350 =  1.69%\n",
      "DL_ Time:  0.182077 / 0.370350 = 49.16%\n",
      "\n",
      "VT_ Time:  0.408704\n",
      "VTF Time:  0.140108 / 0.317411 = 44.14%\n",
      "IO_ Time:  0.006322 / 0.317411 =  1.99%\n",
      "DL_ Time:  0.169063 / 0.317411 = 53.26%\n",
      "\n",
      "VT_ Time:  0.762280\n",
      "VTF Time:  0.150737 / 0.336098 = 44.85%\n",
      "IO_ Time:  0.006118 / 0.336098 =  1.82%\n",
      "DL_ Time:  0.177326 / 0.336098 = 52.76%\n",
      "\n",
      "VT_ Time:  0.374688\n",
      "VTF Time:  0.124995 / 0.289050 = 43.24%\n",
      "IO_ Time:  0.006101 / 0.289050 =  2.11%\n",
      "DL_ Time:  0.156331 / 0.289050 = 54.08%\n",
      "\n",
      "\n"
     ]
    },
    {
     "data": {
      "application/vnd.jupyter.widget-view+json": {
       "model_id": "97fc167f9d8e42c88611f9db3eca61ce",
       "version_major": 2,
       "version_minor": 0
      },
      "text/plain": [
       "HBox(children=(FloatProgress(value=1.0, bar_style='info', max=1.0), HTML(value='')))"
      ]
     },
     "metadata": {},
     "output_type": "display_data"
    },
    {
     "name": "stdout",
     "output_type": "stream",
     "text": [
      "VT_ Time:  0.731347\n",
      "VTF Time:  0.117543 / 0.334581 = 35.13%\n",
      "IO_ Time:  0.005515 / 0.334581 =  1.65%\n",
      "DL_ Time:  0.209092 / 0.334581 = 62.49%\n",
      "\n",
      "VT_ Time:  0.365710\n",
      "VTF Time:  0.141810 / 0.305110 = 46.48%\n",
      "IO_ Time:  0.006022 / 0.305110 =  1.97%\n",
      "DL_ Time:  0.154924 / 0.305110 = 50.78%\n",
      "\n",
      "VT_ Time:  0.550376\n",
      "VTF Time:  0.165681 / 0.413121 = 40.10%\n",
      "IO_ Time:  0.008668 / 0.413121 =  2.10%\n",
      "DL_ Time:  0.234786 / 0.413121 = 56.83%\n",
      "\n",
      "VT_ Time:  0.479786\n",
      "VTF Time:  0.218679 / 0.387866 = 56.38%\n",
      "IO_ Time:  0.006282 / 0.387866 =  1.62%\n",
      "DL_ Time:  0.161252 / 0.387866 = 41.57%\n",
      "\n",
      "VT_ Time:  0.367198\n",
      "VTF Time:  0.193584 / 0.417622 = 46.35%\n",
      "IO_ Time:  0.009180 / 0.417622 =  2.20%\n",
      "DL_ Time:  0.208714 / 0.417622 = 49.98%\n",
      "\n",
      "VT_ Time:  0.417315\n",
      "VTF Time:  0.216851 / 0.378024 = 57.36%\n",
      "IO_ Time:  0.006259 / 0.378024 =  1.66%\n",
      "DL_ Time:  0.153282 / 0.378024 = 40.55%\n",
      "\n",
      "\n"
     ]
    },
    {
     "data": {
      "application/vnd.jupyter.widget-view+json": {
       "model_id": "56f8464fa0f74809b0ed711e86f85497",
       "version_major": 2,
       "version_minor": 0
      },
      "text/plain": [
       "HBox(children=(FloatProgress(value=1.0, bar_style='info', max=1.0), HTML(value='')))"
      ]
     },
     "metadata": {},
     "output_type": "display_data"
    },
    {
     "name": "stdout",
     "output_type": "stream",
     "text": [
      "VT_ Time:  0.386003\n",
      "VTF Time:  0.177002 / 0.344754 = 51.34%\n",
      "IO_ Time:  0.009012 / 0.344754 =  2.61%\n",
      "DL_ Time:  0.156931 / 0.344754 = 45.52%\n",
      "\n",
      "VT_ Time:  0.430083\n",
      "VTF Time:  0.207760 / 0.370444 = 56.08%\n",
      "IO_ Time:  0.006171 / 0.370444 =  1.67%\n",
      "DL_ Time:  0.154863 / 0.370444 = 41.80%\n",
      "\n",
      "VT_ Time:  0.405816\n",
      "VTF Time:  0.175483 / 0.355281 = 49.39%\n",
      "IO_ Time:  0.008431 / 0.355281 =  2.37%\n",
      "DL_ Time:  0.169708 / 0.355281 = 47.77%\n",
      "\n",
      "VT_ Time:  0.480949\n",
      "VTF Time:  0.147155 / 0.332185 = 44.30%\n",
      "IO_ Time:  0.006287 / 0.332185 =  1.89%\n",
      "DL_ Time:  0.177005 / 0.332185 = 53.29%\n",
      "\n",
      "VT_ Time:  0.630736\n",
      "VTF Time:  0.150808 / 0.341883 = 44.11%\n",
      "IO_ Time:  0.006284 / 0.341883 =  1.84%\n",
      "DL_ Time:  0.182809 / 0.341883 = 53.47%\n",
      "\n",
      "VT_ Time:  0.360628\n",
      "VTF Time:  0.151731 / 0.339944 = 44.63%\n",
      "IO_ Time:  0.006294 / 0.339944 =  1.85%\n",
      "DL_ Time:  0.180163 / 0.339944 = 53.00%\n",
      "\n",
      "\n"
     ]
    }
   ],
   "source": [
    "datasets = ['train', 'val', 'test']\n",
    "batch_size=64\n",
    "batch_size = 16\n",
    "\n",
    "start = time.perf_counter()\n",
    "\n",
    "for dataset in datasets:\n",
    "    \n",
    "    with open(f'filelists/ljs_audio_text_{dataset}_filelist.txt', 'r') as f:\n",
    "        lines_raw = [line.split('|') for line in f.read().splitlines()]\n",
    "        lines_list = [ lines_raw[batch_size*i:batch_size*(i+1)] \n",
    "                      for i in range(len(lines_raw)//batch_size+1)]\n",
    "        \n",
    "    for num, batch in tqdm(enumerate(lines_list)):\n",
    "        \n",
    "        single_loop_start = time.perf_counter()\n",
    "        \n",
    "        file_list, text_list, mel_list = [], [], []\n",
    "        text_lengths, mel_lengths=[], []\n",
    "        \n",
    "        for i in range(len(batch)):\n",
    "            file_name, _, text = batch[i]\n",
    "            file_list.append(file_name)\n",
    "            seq_path = os.path.join('../Dataset/LJSpeech-1.1/preprocessed',\n",
    "                               f'{data_type}_seq')\n",
    "            mel_path = os.path.join('../Dataset/LJSpeech-1.1/preprocessed',\n",
    "                               'melspectrogram')\n",
    "            try:\n",
    "                seq = torch.from_numpy(np.load(f'{seq_path}/{file_name}_sequence.npy'))\n",
    "            except FileNotFoundError:\n",
    "                with open(f'{seq_path}/{file_name}_sequence.pkl', 'rb') as f:\n",
    "                    seq = pkl.load(f)\n",
    "            \n",
    "            try:\n",
    "                mel = torch.from_numpy(np.load(f'{mel_path}/{file_name}_melspectrogram.npy'))\n",
    "            except FileNotFoundError:\n",
    "                with open(f'{mel_path}/{file_name}_melspectrogram.pkl', 'rb') as f:\n",
    "                    mel = pkl.load(f)\n",
    "            \n",
    "            text_list.append(seq)\n",
    "            mel_list.append(mel)\n",
    "            text_lengths.append(seq.size(0))\n",
    "            mel_lengths.append(mel.size(1))\n",
    "            \n",
    "        io_time = time.perf_counter()\n",
    "            \n",
    "        text_lengths = torch.LongTensor(text_lengths)\n",
    "        mel_lengths = torch.LongTensor(mel_lengths)\n",
    "        text_padded = torch.zeros(len(batch), text_lengths.max().item(), dtype=torch.long)\n",
    "        mel_padded = torch.zeros(len(batch), hparams.n_mel_channels, mel_lengths.max().item())\n",
    "        \n",
    "        for j in range(len(batch)):\n",
    "            text_padded[j, :text_list[j].size(0)] = text_list[j]\n",
    "            mel_padded[j, :, :mel_list[j].size(1)] = mel_list[j]\n",
    "        \n",
    "        text_padded = text_padded.cuda()\n",
    "        mel_padded = mel_padded.cuda()\n",
    "        text_lengths = text_lengths.cuda()\n",
    "        mel_lengths = mel_lengths.cuda()\n",
    "        \n",
    "        with torch.no_grad():\n",
    "            \n",
    "            model_start = time.perf_counter()\n",
    "            \n",
    "            encoder_input = model.Prenet(text_padded)\n",
    "            hidden_states, _ = model.FFT_lower(encoder_input, text_lengths)\n",
    "            mu_sigma = model.get_mu_sigma(hidden_states)\n",
    "            _, log_prob_matrix = criterion(mu_sigma, mel_padded, text_lengths, mel_lengths)\n",
    "            \n",
    "            viterbi_start = time.perf_counter()\n",
    "\n",
    "#             align_ = model.fast_viterbi(log_prob_matrix, text_lengths, mel_lengths).to(log_prob_matrix.device)\n",
    "#             alignments_ = list(torch.split(align_,1))\n",
    "            align_cpu = model.viterbi_cpu(log_prob_matrix, text_lengths.cpu(), mel_lengths.cpu())\n",
    "            alignments_cpu = list(torch.split(align_cpu,1))\n",
    "            \n",
    "            viterbi_end = time.perf_counter()\n",
    "            \n",
    "            viterbi_origin_start = time.perf_counter()\n",
    "\n",
    "            align = model.viterbi(log_prob_matrix, text_lengths, mel_lengths).to(torch.long)\n",
    "            alignments = list(torch.split(align,1))\n",
    "            \n",
    "            viterbi_origin_end = time.perf_counter()\n",
    "            \n",
    "#         print(alignments_ == alignments)\n",
    "        \n",
    "        print('VT_ Time: ', end=' ')\n",
    "        print(f'{viterbi_origin_end - viterbi_origin_start:.6f}')\n",
    "              \n",
    "        print('VTF Time: ', end=' ')\n",
    "        print(f'{viterbi_end - viterbi_start:.6f} / {viterbi_end - single_loop_start:.6f} = ' +\n",
    "             f'{(viterbi_end - viterbi_start) / (viterbi_end - single_loop_start) * 100:5.2f}%')\n",
    "       \n",
    "    \n",
    "        print('IO_ Time: ', end=' ')\n",
    "        print(f'{io_time - single_loop_start:.6f} / {viterbi_end - single_loop_start:.6f} = ' +\n",
    "             f'{(io_time - single_loop_start) / (viterbi_end - single_loop_start) * 100:5.2f}%')\n",
    "        \n",
    "        print('DL_ Time: ', end=' ')\n",
    "        print(f'{viterbi_start - model_start:.6f} / {viterbi_end - single_loop_start:.6f} = ' +\n",
    "             f'{(viterbi_start - model_start) / (viterbi_end - single_loop_start) * 100:5.2f}%')\n",
    "        \n",
    "        print()\n",
    "        \n",
    "        \n",
    "        \n",
    "        if num >= 5:\n",
    "            break\n",
    "       \n",
    "#         for j, (l, t) in enumerate(zip(text_lengths, mel_lengths)):\n",
    "#             alignments[j] = alignments[j][0, :l.item(), :t.item()].sum(dim=-1)\n",
    "#             np.save(f'../Dataset/LJSpeech-1.1/preprocessed/alignments/{file_list[j]}_alignment.npy',\n",
    "#                     alignments[j].detach().cpu().numpy())"
   ]
  },
  {
   "cell_type": "code",
   "execution_count": 6,
   "metadata": {},
   "outputs": [
    {
     "data": {
      "text/plain": [
       "torch.Size([1, 161, 863])"
      ]
     },
     "execution_count": 6,
     "metadata": {},
     "output_type": "execute_result"
    }
   ],
   "source": [
    "alignments_cpu[0].shape\n",
    "alignments[0].shape"
   ]
  },
  {
   "cell_type": "code",
   "execution_count": 22,
   "metadata": {
    "scrolled": false
   },
   "outputs": [
    {
     "data": {
      "image/png": "[encoded data removed]",
      "text/plain": [
       "<Figure size 1008x864 with 3 Axes>"
      ]
     },
     "metadata": {
      "needs_background": "light"
     },
     "output_type": "display_data"
    }
   ],
   "source": [
    "fig, axes = plt.subplots(3, 1, figsize=(14, 12), sharex = True)\n",
    "\n",
    "axes[0].imshow(alignments_cpu[0].cpu()[0, :, :])\n",
    "axes[0].set_title('Alignments from Viterbi CPU', fontsize=14)\n",
    "axes[1].imshow(alignments[0].cpu()[0, :, :])\n",
    "axes[1].set_title('Alignments from Viterbi', fontsize=14)\n",
    "im = axes[2].imshow(alignments_cpu[0].cpu()[0, :, :] - alignments[0].cpu()[0, :, :])\n",
    "axes[2].set_title('Alignments CPU - Alignments GPU', fontsize=14)\n",
    "fig.tight_layout()          \n",
    "plt.show(axes[0])"
   ]
  },
  {
   "cell_type": "code",
   "execution_count": null,
   "metadata": {},
   "outputs": [],
   "source": []
  }
 ],
 "metadata": {
  "kernelspec": {
   "display_name": "Python 3",
   "language": "python",
   "name": "python3"
  },
  "language_info": {
   "codemirror_mode": {
    "name": "ipython",
    "version": 3
   },
   "file_extension": ".py",
   "mimetype": "text/x-python",
   "name": "python",
   "nbconvert_exporter": "python",
   "pygments_lexer": "ipython3",
   "version": "3.8.3"
  }
 },
 "nbformat": 4,
 "nbformat_minor": 2
}
