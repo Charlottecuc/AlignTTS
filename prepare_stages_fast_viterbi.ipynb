{
 "cells": [
  {
   "cell_type": "markdown",
   "metadata": {},
   "source": [
    "# Run this code twice after the stage0 and stage0"
   ]
  },
  {
   "cell_type": "code",
   "execution_count": 1,
   "metadata": {},
   "outputs": [
    {
     "name": "stdout",
     "output_type": "stream",
     "text": [
      "training_log/aligntts/stage0/checkpoint_1000\n"
     ]
    }
   ],
   "source": [
    "import os\n",
    "os.environ[\"CUDA_VISIBLE_DEVICES\"]='0'\n",
    "\n",
    "import warnings\n",
    "warnings.filterwarnings(\"ignore\")\n",
    "\n",
    "import sys\n",
    "sys.path.append('waveglow/')\n",
    "\n",
    "import matplotlib.pyplot as plt\n",
    "%matplotlib inline\n",
    "\n",
    "import IPython.display as ipd\n",
    "import pickle as pkl\n",
    "import torch\n",
    "import torch.nn.functional as F\n",
    "import hparams\n",
    "from torch.utils.data import DataLoader\n",
    "from modules.model import Model\n",
    "from text import text_to_sequence, sequence_to_text\n",
    "from denoiser import Denoiser\n",
    "from tqdm import tqdm_notebook as tqdm\n",
    "import librosa\n",
    "from modules.loss import MDNLoss\n",
    "import math\n",
    "from multiprocessing import Pool\n",
    "import numpy as np\n",
    "\n",
    "data_type = 'char'\n",
    "checkpoint_path = f\"training_log/aligntts/stage0/checkpoint_40000\"\n",
    "\n",
    "from glob import glob\n",
    "\n",
    "checkpoint_path = sorted(glob(\"training_log/aligntts/stage0/checkpoint_*\"))[0]\n",
    "\n",
    "print(checkpoint_path)\n",
    "\n",
    "\n",
    "state_dict = {}\n",
    "for k, v in torch.load(checkpoint_path)['state_dict'].items():\n",
    "    state_dict[k[7:]]=v\n",
    "\n",
    "\n",
    "model = Model(hparams).cuda()\n",
    "model.load_state_dict(state_dict)\n",
    "_ = model.cuda().eval()\n",
    "criterion = MDNLoss()"
   ]
  },
  {
   "cell_type": "code",
   "execution_count": 2,
   "metadata": {},
   "outputs": [],
   "source": [
    "import time"
   ]
  },
  {
   "cell_type": "code",
   "execution_count": 3,
   "metadata": {
    "scrolled": false
   },
   "outputs": [
    {
     "data": {
      "application/vnd.jupyter.widget-view+json": {
       "model_id": "ce21d16c1d6b421290b98ef04a84bea6",
       "version_major": 2,
       "version_minor": 0
      },
      "text/plain": [
       "HBox(children=(FloatProgress(value=1.0, bar_style='info', max=1.0), HTML(value='')))"
      ]
     },
     "metadata": {},
     "output_type": "display_data"
    },
    {
     "name": "stdout",
     "output_type": "stream",
     "text": [
      "VT Time:  0.377425 / 0.887673 = 42.52%\n",
      "IO Time:  0.014430 / 0.887673 =  1.63%\n",
      "DL Time:  0.487827 / 0.887673 = 54.96%\n",
      "\n",
      "VT Time:  0.750272 / 1.001714 = 74.90%\n",
      "IO Time:  0.004976 / 1.001714 =  0.50%\n",
      "DL Time:  0.217504 / 1.001714 = 21.71%\n",
      "\n",
      "VT Time:  0.550858 / 0.752612 = 73.19%\n",
      "IO Time:  0.003775 / 0.752612 =  0.50%\n",
      "DL Time:  0.193114 / 0.752612 = 25.66%\n",
      "\n",
      "VT Time:  0.376836 / 0.575696 = 65.46%\n",
      "IO Time:  0.003649 / 0.575696 =  0.63%\n",
      "DL Time:  0.193024 / 0.575696 = 33.53%\n",
      "\n",
      "VT Time:  0.777483 / 0.972900 = 79.91%\n",
      "IO Time:  0.003340 / 0.972900 =  0.34%\n",
      "DL Time:  0.190440 / 0.972900 = 19.57%\n",
      "\n",
      "VT Time:  0.592689 / 0.770975 = 76.88%\n",
      "IO Time:  0.002865 / 0.770975 =  0.37%\n",
      "DL Time:  0.173659 / 0.770975 = 22.52%\n",
      "\n",
      "\n"
     ]
    },
    {
     "data": {
      "application/vnd.jupyter.widget-view+json": {
       "model_id": "51ec430e26444c73a092b322042027bd",
       "version_major": 2,
       "version_minor": 0
      },
      "text/plain": [
       "HBox(children=(FloatProgress(value=1.0, bar_style='info', max=1.0), HTML(value='')))"
      ]
     },
     "metadata": {},
     "output_type": "display_data"
    },
    {
     "name": "stdout",
     "output_type": "stream",
     "text": [
      "VT Time:  0.559475 / 0.774003 = 72.28%\n",
      "IO Time:  0.003058 / 0.774003 =  0.40%\n",
      "DL Time:  0.202574 / 0.774003 = 26.17%\n",
      "\n",
      "VT Time:  0.606606 / 0.793290 = 76.47%\n",
      "IO Time:  0.003265 / 0.793290 =  0.41%\n",
      "DL Time:  0.181665 / 0.793290 = 22.90%\n",
      "\n",
      "VT Time:  0.777442 / 0.981185 = 79.23%\n",
      "IO Time:  0.004064 / 0.981185 =  0.41%\n",
      "DL Time:  0.197619 / 0.981185 = 20.14%\n",
      "\n",
      "VT Time:  0.718148 / 0.918140 = 78.22%\n",
      "IO Time:  0.005253 / 0.918140 =  0.57%\n",
      "DL Time:  0.192370 / 0.918140 = 20.95%\n",
      "\n",
      "VT Time:  0.708586 / 0.931919 = 76.04%\n",
      "IO Time:  0.004002 / 0.931919 =  0.43%\n",
      "DL Time:  0.217171 / 0.931919 = 23.30%\n",
      "\n",
      "VT Time:  0.726254 / 0.943122 = 77.01%\n",
      "IO Time:  0.003280 / 0.943122 =  0.35%\n",
      "DL Time:  0.211689 / 0.943122 = 22.45%\n",
      "\n",
      "\n"
     ]
    },
    {
     "data": {
      "application/vnd.jupyter.widget-view+json": {
       "model_id": "e28995bd121a4dda8eee511c236a3c42",
       "version_major": 2,
       "version_minor": 0
      },
      "text/plain": [
       "HBox(children=(FloatProgress(value=1.0, bar_style='info', max=1.0), HTML(value='')))"
      ]
     },
     "metadata": {},
     "output_type": "display_data"
    },
    {
     "name": "stdout",
     "output_type": "stream",
     "text": [
      "VT Time:  0.726439 / 0.939057 = 77.36%\n",
      "IO Time:  0.004160 / 0.939057 =  0.44%\n",
      "DL Time:  0.205984 / 0.939057 = 21.94%\n",
      "\n",
      "VT Time:  0.688321 / 0.947315 = 72.66%\n",
      "IO Time:  0.003528 / 0.947315 =  0.37%\n",
      "DL Time:  0.253489 / 0.947315 = 26.76%\n",
      "\n",
      "VT Time:  0.635434 / 0.809069 = 78.54%\n",
      "IO Time:  0.003287 / 0.809069 =  0.41%\n",
      "DL Time:  0.168517 / 0.809069 = 20.83%\n",
      "\n",
      "VT Time:  0.669464 / 0.926796 = 72.23%\n",
      "IO Time:  0.003158 / 0.926796 =  0.34%\n",
      "DL Time:  0.252165 / 0.926796 = 27.21%\n",
      "\n",
      "VT Time:  0.593066 / 0.875960 = 67.70%\n",
      "IO Time:  0.004477 / 0.875960 =  0.51%\n",
      "DL Time:  0.275849 / 0.875960 = 31.49%\n",
      "\n",
      "VT Time:  0.522537 / 0.795358 = 65.70%\n",
      "IO Time:  0.005149 / 0.795358 =  0.65%\n",
      "DL Time:  0.265590 / 0.795358 = 33.39%\n",
      "\n",
      "\n"
     ]
    }
   ],
   "source": [
    "datasets = ['train', 'val', 'test']\n",
    "batch_size=64\n",
    "batch_size = 16\n",
    "\n",
    "start = time.perf_counter()\n",
    "\n",
    "for dataset in datasets:\n",
    "    \n",
    "    with open(f'filelists/ljs_audio_text_{dataset}_filelist.txt', 'r') as f:\n",
    "        lines_raw = [line.split('|') for line in f.read().splitlines()]\n",
    "        lines_list = [ lines_raw[batch_size*i:batch_size*(i+1)] \n",
    "                      for i in range(len(lines_raw)//batch_size+1)]\n",
    "        \n",
    "    for num, batch in tqdm(enumerate(lines_list)):\n",
    "        \n",
    "        single_loop_start = time.perf_counter()\n",
    "        \n",
    "        file_list, text_list, mel_list = [], [], []\n",
    "        text_lengths, mel_lengths=[], []\n",
    "        \n",
    "        for i in range(len(batch)):\n",
    "            file_name, _, text = batch[i]\n",
    "            file_list.append(file_name)\n",
    "            seq_path = os.path.join('../Dataset/LJSpeech-1.1/preprocessed',\n",
    "                               f'{data_type}_seq')\n",
    "            mel_path = os.path.join('../Dataset/LJSpeech-1.1/preprocessed',\n",
    "                               'melspectrogram')\n",
    "            try:\n",
    "                seq = torch.from_numpy(np.load(f'{seq_path}/{file_name}_sequence.npy'))\n",
    "            except FileNotFoundError:\n",
    "                with open(f'{seq_path}/{file_name}_sequence.pkl', 'rb') as f:\n",
    "                    seq = pkl.load(f)\n",
    "            \n",
    "            try:\n",
    "                mel = torch.from_numpy(np.load(f'{mel_path}/{file_name}_melspectrogram.npy'))\n",
    "            except FileNotFoundError:\n",
    "                with open(f'{mel_path}/{file_name}_melspectrogram.pkl', 'rb') as f:\n",
    "                    mel = pkl.load(f)\n",
    "            \n",
    "            text_list.append(seq)\n",
    "            mel_list.append(mel)\n",
    "            text_lengths.append(seq.size(0))\n",
    "            mel_lengths.append(mel.size(1))\n",
    "            \n",
    "        io_time = time.perf_counter()\n",
    "            \n",
    "        text_lengths = torch.LongTensor(text_lengths)\n",
    "        mel_lengths = torch.LongTensor(mel_lengths)\n",
    "        text_padded = torch.zeros(len(batch), text_lengths.max().item(), dtype=torch.long)\n",
    "        mel_padded = torch.zeros(len(batch), hparams.n_mel_channels, mel_lengths.max().item())\n",
    "        \n",
    "        for j in range(len(batch)):\n",
    "            text_padded[j, :text_list[j].size(0)] = text_list[j]\n",
    "            mel_padded[j, :, :mel_list[j].size(1)] = mel_list[j]\n",
    "        \n",
    "        text_padded = text_padded.cuda()\n",
    "        mel_padded = mel_padded.cuda()\n",
    "        text_lengths = text_lengths.cuda()\n",
    "        mel_lengths = mel_lengths.cuda()\n",
    "        \n",
    "        with torch.no_grad():\n",
    "            \n",
    "            model_start = time.perf_counter()\n",
    "            \n",
    "            encoder_input = model.Prenet(text_padded)\n",
    "            hidden_states, _ = model.FFT_lower(encoder_input, text_lengths)\n",
    "            mu_sigma = model.get_mu_sigma(hidden_states)\n",
    "            _, log_prob_matrix = criterion(mu_sigma, mel_padded, text_lengths, mel_lengths)\n",
    "            \n",
    "            viterbi_start = time.perf_counter()\n",
    "\n",
    "            align = model.viterbi(log_prob_matrix, text_lengths, mel_lengths).to(torch.long)\n",
    "            alignments = list(torch.split(align,1))\n",
    "            \n",
    "            viterbi_end = time.perf_counter()\n",
    "        \n",
    "        print('VT Time: ', end=' ')\n",
    "        print(f'{viterbi_end - viterbi_start:.6f} / {viterbi_end - single_loop_start:.6f} = ' +\n",
    "             f'{(viterbi_end - viterbi_start) / (viterbi_end - single_loop_start) * 100:5.2f}%')\n",
    "        \n",
    "        print('IO Time: ', end=' ')\n",
    "        print(f'{io_time - single_loop_start:.6f} / {viterbi_end - single_loop_start:.6f} = ' +\n",
    "             f'{(io_time - single_loop_start) / (viterbi_end - single_loop_start) * 100:5.2f}%')\n",
    "        \n",
    "        print('DL Time: ', end=' ')\n",
    "        print(f'{viterbi_start - model_start:.6f} / {viterbi_end - single_loop_start:.6f} = ' +\n",
    "             f'{(viterbi_start - model_start) / (viterbi_end - single_loop_start) * 100:5.2f}%')\n",
    "        \n",
    "#         print(alignments[0].shape)\n",
    "\n",
    "        print()\n",
    "        \n",
    "        if num >= 5:\n",
    "            break\n",
    "       \n",
    "#         for j, (l, t) in enumerate(zip(text_lengths, mel_lengths)):\n",
    "#             alignments[j] = alignments[j][0, :l.item(), :t.item()].sum(dim=-1)\n",
    "#             np.save(f'../Dataset/LJSpeech-1.1/preprocessed/alignments/{file_list[j]}_alignment.npy',\n",
    "#                     alignments[j].detach().cpu().numpy())"
   ]
  },
  {
   "cell_type": "code",
   "execution_count": 5,
   "metadata": {
    "scrolled": false
   },
   "outputs": [
    {
     "data": {
      "application/vnd.jupyter.widget-view+json": {
       "model_id": "179d3812aa3648a39a6113b3baab4222",
       "version_major": 2,
       "version_minor": 0
      },
      "text/plain": [
       "HBox(children=(FloatProgress(value=1.0, bar_style='info', max=1.0), HTML(value='')))"
      ]
     },
     "metadata": {},
     "output_type": "display_data"
    },
    {
     "name": "stdout",
     "output_type": "stream",
     "text": [
      "VT_ Time:  0.669878\n",
      "VTF Time:  0.156235 / 0.423238 = 36.91%\n",
      "IO_ Time:  0.004926 / 0.423238 =  1.16%\n",
      "DL_ Time:  0.256411 / 0.423238 = 60.58%\n",
      "\n",
      "VT_ Time:  0.428099\n",
      "VTF Time:  0.081329 / 0.275960 = 29.47%\n",
      "IO_ Time:  0.003719 / 0.275960 =  1.35%\n",
      "DL_ Time:  0.186748 / 0.275960 = 67.67%\n",
      "\n",
      "VT_ Time:  0.581750\n",
      "VTF Time:  0.083079 / 0.281742 = 29.49%\n",
      "IO_ Time:  0.003731 / 0.281742 =  1.32%\n",
      "DL_ Time:  0.192549 / 0.281742 = 68.34%\n",
      "\n",
      "VT_ Time:  0.547910\n",
      "VTF Time:  0.102206 / 0.341050 = 29.97%\n",
      "IO_ Time:  0.003692 / 0.341050 =  1.08%\n",
      "DL_ Time:  0.233103 / 0.341050 = 68.35%\n",
      "\n",
      "VT_ Time:  0.494890\n",
      "VTF Time:  0.127460 / 0.332481 = 38.34%\n",
      "IO_ Time:  0.004632 / 0.332481 =  1.39%\n",
      "DL_ Time:  0.198424 / 0.332481 = 59.68%\n",
      "\n",
      "VT_ Time:  0.635409\n",
      "VTF Time:  0.109290 / 0.292674 = 37.34%\n",
      "IO_ Time:  0.005402 / 0.292674 =  1.85%\n",
      "DL_ Time:  0.175561 / 0.292674 = 59.99%\n",
      "\n",
      "\n"
     ]
    },
    {
     "data": {
      "application/vnd.jupyter.widget-view+json": {
       "model_id": "1a9986de2a454e0e9ed800e688631f14",
       "version_major": 2,
       "version_minor": 0
      },
      "text/plain": [
       "HBox(children=(FloatProgress(value=1.0, bar_style='info', max=1.0), HTML(value='')))"
      ]
     },
     "metadata": {},
     "output_type": "display_data"
    },
    {
     "name": "stdout",
     "output_type": "stream",
     "text": [
      "VT_ Time:  0.516553\n",
      "VTF Time:  0.089724 / 0.274058 = 32.74%\n",
      "IO_ Time:  0.005014 / 0.274058 =  1.83%\n",
      "DL_ Time:  0.168034 / 0.274058 = 61.31%\n",
      "\n",
      "VT_ Time:  0.630515\n",
      "VTF Time:  0.088109 / 0.258039 = 34.15%\n",
      "IO_ Time:  0.004688 / 0.258039 =  1.82%\n",
      "DL_ Time:  0.163250 / 0.258039 = 63.27%\n",
      "\n",
      "VT_ Time:  0.648054\n",
      "VTF Time:  0.139239 / 0.413141 = 33.70%\n",
      "IO_ Time:  0.006357 / 0.413141 =  1.54%\n",
      "DL_ Time:  0.256570 / 0.413141 = 62.10%\n",
      "\n",
      "VT_ Time:  0.460069\n",
      "VTF Time:  0.116214 / 0.321132 = 36.19%\n",
      "IO_ Time:  0.005775 / 0.321132 =  1.80%\n",
      "DL_ Time:  0.196975 / 0.321132 = 61.34%\n",
      "\n",
      "VT_ Time:  0.558025\n",
      "VTF Time:  0.099308 / 0.272645 = 36.42%\n",
      "IO_ Time:  0.003445 / 0.272645 =  1.26%\n",
      "DL_ Time:  0.167961 / 0.272645 = 61.60%\n",
      "\n",
      "VT_ Time:  0.629111\n",
      "VTF Time:  0.093341 / 0.331320 = 28.17%\n",
      "IO_ Time:  0.003913 / 0.331320 =  1.18%\n",
      "DL_ Time:  0.232186 / 0.331320 = 70.08%\n",
      "\n",
      "\n"
     ]
    },
    {
     "data": {
      "application/vnd.jupyter.widget-view+json": {
       "model_id": "e1d3905daaee43abbf6182cb3e637437",
       "version_major": 2,
       "version_minor": 0
      },
      "text/plain": [
       "HBox(children=(FloatProgress(value=1.0, bar_style='info', max=1.0), HTML(value='')))"
      ]
     },
     "metadata": {},
     "output_type": "display_data"
    },
    {
     "name": "stdout",
     "output_type": "stream",
     "text": [
      "VT_ Time:  0.605865\n",
      "VTF Time:  0.099747 / 0.334364 = 29.83%\n",
      "IO_ Time:  0.004464 / 0.334364 =  1.34%\n",
      "DL_ Time:  0.222473 / 0.334364 = 66.54%\n",
      "\n",
      "VT_ Time:  0.517539\n",
      "VTF Time:  0.100126 / 0.333212 = 30.05%\n",
      "IO_ Time:  0.004593 / 0.333212 =  1.38%\n",
      "DL_ Time:  0.226366 / 0.333212 = 67.93%\n",
      "\n",
      "VT_ Time:  0.582867\n",
      "VTF Time:  0.076987 / 0.266797 = 28.86%\n",
      "IO_ Time:  0.003669 / 0.266797 =  1.38%\n",
      "DL_ Time:  0.182137 / 0.266797 = 68.27%\n",
      "\n",
      "VT_ Time:  0.366468\n",
      "VTF Time:  0.098648 / 0.353109 = 27.94%\n",
      "IO_ Time:  0.004708 / 0.353109 =  1.33%\n",
      "DL_ Time:  0.247260 / 0.353109 = 70.02%\n",
      "\n",
      "VT_ Time:  0.670223\n",
      "VTF Time:  0.077732 / 0.278104 = 27.95%\n",
      "IO_ Time:  0.003957 / 0.278104 =  1.42%\n",
      "DL_ Time:  0.194294 / 0.278104 = 69.86%\n",
      "\n",
      "VT_ Time:  0.581570\n",
      "VTF Time:  0.127707 / 0.388610 = 32.86%\n",
      "IO_ Time:  0.005521 / 0.388610 =  1.42%\n",
      "DL_ Time:  0.253283 / 0.388610 = 65.18%\n",
      "\n",
      "\n"
     ]
    }
   ],
   "source": [
    "datasets = ['train', 'val', 'test']\n",
    "batch_size=64\n",
    "batch_size = 16\n",
    "\n",
    "start = time.perf_counter()\n",
    "\n",
    "for dataset in datasets:\n",
    "    \n",
    "    with open(f'filelists/ljs_audio_text_{dataset}_filelist.txt', 'r') as f:\n",
    "        lines_raw = [line.split('|') for line in f.read().splitlines()]\n",
    "        lines_list = [ lines_raw[batch_size*i:batch_size*(i+1)] \n",
    "                      for i in range(len(lines_raw)//batch_size+1)]\n",
    "        \n",
    "    for num, batch in tqdm(enumerate(lines_list)):\n",
    "        \n",
    "        single_loop_start = time.perf_counter()\n",
    "        \n",
    "        file_list, text_list, mel_list = [], [], []\n",
    "        text_lengths, mel_lengths=[], []\n",
    "        \n",
    "        for i in range(len(batch)):\n",
    "            file_name, _, text = batch[i]\n",
    "            file_list.append(file_name)\n",
    "            seq_path = os.path.join('../Dataset/LJSpeech-1.1/preprocessed',\n",
    "                               f'{data_type}_seq')\n",
    "            mel_path = os.path.join('../Dataset/LJSpeech-1.1/preprocessed',\n",
    "                               'melspectrogram')\n",
    "            try:\n",
    "                seq = torch.from_numpy(np.load(f'{seq_path}/{file_name}_sequence.npy'))\n",
    "            except FileNotFoundError:\n",
    "                with open(f'{seq_path}/{file_name}_sequence.pkl', 'rb') as f:\n",
    "                    seq = pkl.load(f)\n",
    "            \n",
    "            try:\n",
    "                mel = torch.from_numpy(np.load(f'{mel_path}/{file_name}_melspectrogram.npy'))\n",
    "            except FileNotFoundError:\n",
    "                with open(f'{mel_path}/{file_name}_melspectrogram.pkl', 'rb') as f:\n",
    "                    mel = pkl.load(f)\n",
    "            \n",
    "            text_list.append(seq)\n",
    "            mel_list.append(mel)\n",
    "            text_lengths.append(seq.size(0))\n",
    "            mel_lengths.append(mel.size(1))\n",
    "            \n",
    "        io_time = time.perf_counter()\n",
    "            \n",
    "        text_lengths = torch.LongTensor(text_lengths)\n",
    "        mel_lengths = torch.LongTensor(mel_lengths)\n",
    "        text_padded = torch.zeros(len(batch), text_lengths.max().item(), dtype=torch.long)\n",
    "        mel_padded = torch.zeros(len(batch), hparams.n_mel_channels, mel_lengths.max().item())\n",
    "        \n",
    "        for j in range(len(batch)):\n",
    "            text_padded[j, :text_list[j].size(0)] = text_list[j]\n",
    "            mel_padded[j, :, :mel_list[j].size(1)] = mel_list[j]\n",
    "        \n",
    "        text_padded = text_padded.cuda()\n",
    "        mel_padded = mel_padded.cuda()\n",
    "        text_lengths = text_lengths.cuda()\n",
    "        mel_lengths = mel_lengths.cuda()\n",
    "        \n",
    "        with torch.no_grad():\n",
    "            \n",
    "            model_start = time.perf_counter()\n",
    "            \n",
    "            encoder_input = model.Prenet(text_padded)\n",
    "            hidden_states, _ = model.FFT_lower(encoder_input, text_lengths)\n",
    "            mu_sigma = model.get_mu_sigma(hidden_states)\n",
    "            _, log_prob_matrix = criterion(mu_sigma, mel_padded, text_lengths, mel_lengths)\n",
    "            \n",
    "            viterbi_start = time.perf_counter()\n",
    "\n",
    "            align_ = model.fast_viterbi(log_prob_matrix, text_lengths, mel_lengths).to(log_prob_matrix.device)\n",
    "            alignments_ = list(torch.split(align_,1))\n",
    "            \n",
    "            viterbi_end = time.perf_counter()\n",
    "            \n",
    "            viterbi_origin_start = time.perf_counter()\n",
    "\n",
    "            align = model.viterbi(log_prob_matrix, text_lengths, mel_lengths).to(torch.long)\n",
    "            alignments = list(torch.split(align,1))\n",
    "            \n",
    "            viterbi_origin_end = time.perf_counter()\n",
    "            \n",
    "#         print(alignments_ == alignments)\n",
    "        \n",
    "        print('VT_ Time: ', end=' ')\n",
    "        print(f'{viterbi_origin_end - viterbi_origin_start:.6f}')\n",
    "              \n",
    "        print('VTF Time: ', end=' ')\n",
    "        print(f'{viterbi_end - viterbi_start:.6f} / {viterbi_end - single_loop_start:.6f} = ' +\n",
    "             f'{(viterbi_end - viterbi_start) / (viterbi_end - single_loop_start) * 100:5.2f}%')\n",
    "       \n",
    "    \n",
    "        print('IO_ Time: ', end=' ')\n",
    "        print(f'{io_time - single_loop_start:.6f} / {viterbi_end - single_loop_start:.6f} = ' +\n",
    "             f'{(io_time - single_loop_start) / (viterbi_end - single_loop_start) * 100:5.2f}%')\n",
    "        \n",
    "        print('DL_ Time: ', end=' ')\n",
    "        print(f'{viterbi_start - model_start:.6f} / {viterbi_end - single_loop_start:.6f} = ' +\n",
    "             f'{(viterbi_start - model_start) / (viterbi_end - single_loop_start) * 100:5.2f}%')\n",
    "        \n",
    "        print()\n",
    "        \n",
    "        \n",
    "        \n",
    "        if num >= 5:\n",
    "            break\n",
    "       \n",
    "#         for j, (l, t) in enumerate(zip(text_lengths, mel_lengths)):\n",
    "#             alignments[j] = alignments[j][0, :l.item(), :t.item()].sum(dim=-1)\n",
    "#             np.save(f'../Dataset/LJSpeech-1.1/preprocessed/alignments/{file_list[j]}_alignment.npy',\n",
    "#                     alignments[j].detach().cpu().numpy())"
   ]
  },
  {
   "cell_type": "code",
   "execution_count": 6,
   "metadata": {},
   "outputs": [
    {
     "data": {
      "text/plain": [
       "tensor([[[False,  True,  True,  ...,  True,  True,  True],\n",
       "         [ True, False,  True,  ...,  True,  True,  True],\n",
       "         [ True,  True, False,  ...,  True,  True,  True],\n",
       "         ...,\n",
       "         [ True,  True,  True,  ...,  True,  True,  True],\n",
       "         [ True,  True,  True,  ...,  True,  True,  True],\n",
       "         [ True,  True,  True,  ...,  True,  True,  True]]], device='cuda:0')"
      ]
     },
     "execution_count": 6,
     "metadata": {},
     "output_type": "execute_result"
    }
   ],
   "source": [
    "alignments_[0] == alignments[0]"
   ]
  },
  {
   "cell_type": "code",
   "execution_count": 19,
   "metadata": {},
   "outputs": [
    {
     "data": {
      "image/png": "[encoded data removed]",
      "text/plain": [
       "<Figure size 864x432 with 1 Axes>"
      ]
     },
     "metadata": {
      "needs_background": "light"
     },
     "output_type": "display_data"
    }
   ],
   "source": [
    "plt.figure(figsize = (12, 6))\n",
    "plt.imshow(alignments_[0][0, :, :].cpu())\n",
    "plt.show()"
   ]
  },
  {
   "cell_type": "code",
   "execution_count": 20,
   "metadata": {},
   "outputs": [
    {
     "data": {
      "image/png": "[encoded data removed]",
      "text/plain": [
       "<Figure size 864x432 with 1 Axes>"
      ]
     },
     "metadata": {
      "needs_background": "light"
     },
     "output_type": "display_data"
    }
   ],
   "source": [
    "plt.figure(figsize = (12, 6))\n",
    "plt.imshow(alignments[0][0, :, :].cpu())\n",
    "plt.show()"
   ]
  },
  {
   "cell_type": "code",
   "execution_count": 25,
   "metadata": {},
   "outputs": [
    {
     "data": {
      "text/plain": [
       "tensor([[[1, 0, 0,  ..., 0, 0, 0],\n",
       "         [0, 1, 0,  ..., 0, 0, 0],\n",
       "         [0, 0, 1,  ..., 0, 0, 0],\n",
       "         ...,\n",
       "         [0, 0, 0,  ..., 0, 0, 0],\n",
       "         [0, 0, 0,  ..., 0, 0, 0],\n",
       "         [0, 0, 0,  ..., 0, 0, 0]]])"
      ]
     },
     "execution_count": 25,
     "metadata": {},
     "output_type": "execute_result"
    }
   ],
   "source": [
    "alignments[0].cpu() == "
   ]
  },
  {
   "cell_type": "code",
   "execution_count": null,
   "metadata": {},
   "outputs": [],
   "source": []
  }
 ],
 "metadata": {
  "kernelspec": {
   "display_name": "Python 3",
   "language": "python",
   "name": "python3"
  },
  "language_info": {
   "codemirror_mode": {
    "name": "ipython",
    "version": 3
   },
   "file_extension": ".py",
   "mimetype": "text/x-python",
   "name": "python",
   "nbconvert_exporter": "python",
   "pygments_lexer": "ipython3",
   "version": "3.8.3"
  }
 },
 "nbformat": 4,
 "nbformat_minor": 2
}
