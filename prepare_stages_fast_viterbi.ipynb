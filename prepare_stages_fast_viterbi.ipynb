{
 "cells": [
  {
   "cell_type": "markdown",
   "metadata": {},
   "source": [
    "# Run this code twice after the stage0 and stage0"
   ]
  },
  {
   "cell_type": "code",
   "execution_count": 17,
   "metadata": {},
   "outputs": [
    {
     "name": "stdout",
     "output_type": "stream",
     "text": [
      "training_log/aligntts/stage0/checkpoint_40000\n"
     ]
    }
   ],
   "source": [
    "import os\n",
    "os.environ[\"CUDA_VISIBLE_DEVICES\"]='0'\n",
    "\n",
    "import warnings\n",
    "warnings.filterwarnings(\"ignore\")\n",
    "\n",
    "import sys\n",
    "sys.path.append('waveglow/')\n",
    "\n",
    "import matplotlib.pyplot as plt\n",
    "%matplotlib inline\n",
    "\n",
    "import IPython.display as ipd\n",
    "import pickle as pkl\n",
    "import torch\n",
    "import torch.nn.functional as F\n",
    "import hparams\n",
    "from torch.utils.data import DataLoader\n",
    "from modules.model import Model\n",
    "from text import text_to_sequence, sequence_to_text\n",
    "from denoiser import Denoiser\n",
    "from tqdm import tqdm_notebook as tqdm\n",
    "import librosa\n",
    "from modules.loss import MDNLoss\n",
    "import math\n",
    "from multiprocessing import Pool\n",
    "import numpy as np\n",
    "\n",
    "data_type = 'char'\n",
    "checkpoint_path = f\"training_log/aligntts/stage0/checkpoint_40000\"\n",
    "\n",
    "from glob import glob\n",
    "\n",
    "# checkpoint_path = sorted(glob(\"training_log/aligntts/stage0/checkpoint_*\"))[-1]\n",
    "\n",
    "print(checkpoint_path)\n",
    "\n",
    "\n",
    "state_dict = {}\n",
    "for k, v in torch.load(checkpoint_path)['state_dict'].items():\n",
    "    state_dict[k[7:]]=v\n",
    "\n",
    "\n",
    "model = Model(hparams).cuda()\n",
    "model.load_state_dict(state_dict)\n",
    "_ = model.cuda().eval()\n",
    "criterion = MDNLoss()"
   ]
  },
  {
   "cell_type": "code",
   "execution_count": 18,
   "metadata": {},
   "outputs": [],
   "source": [
    "import time"
   ]
  },
  {
   "cell_type": "code",
   "execution_count": 19,
   "metadata": {
    "scrolled": false
   },
   "outputs": [
    {
     "data": {
      "application/vnd.jupyter.widget-view+json": {
       "model_id": "bedd17d2f2c9461d895a77d28ab5f3a2",
       "version_major": 2,
       "version_minor": 0
      },
      "text/plain": [
       "HBox(children=(FloatProgress(value=1.0, bar_style='info', max=1.0), HTML(value='')))"
      ]
     },
     "metadata": {},
     "output_type": "display_data"
    },
    {
     "name": "stdout",
     "output_type": "stream",
     "text": [
      "VT Time:  0.486503 / 0.786500 = 61.86%\n",
      "IO Time:  0.004842 / 0.786500 =  0.62%\n",
      "DL Time:  0.291032 / 0.786500 = 37.00%\n",
      "\n",
      "VT Time:  0.475425 / 0.707545 = 67.19%\n",
      "IO Time:  0.004928 / 0.707545 =  0.70%\n",
      "DL Time:  0.222359 / 0.707545 = 31.43%\n",
      "\n",
      "VT Time:  0.434073 / 0.740829 = 58.59%\n",
      "IO Time:  0.005643 / 0.740829 =  0.76%\n",
      "DL Time:  0.293523 / 0.740829 = 39.62%\n",
      "\n",
      "VT Time:  0.307858 / 0.558429 = 55.13%\n",
      "IO Time:  0.004869 / 0.558429 =  0.87%\n",
      "DL Time:  0.239289 / 0.558429 = 42.85%\n",
      "\n",
      "VT Time:  0.373690 / 0.542530 = 68.88%\n",
      "IO Time:  0.003370 / 0.542530 =  0.62%\n",
      "DL Time:  0.163468 / 0.542530 = 30.13%\n",
      "\n",
      "VT Time:  0.267517 / 0.417813 = 64.03%\n",
      "IO Time:  0.003359 / 0.417813 =  0.80%\n",
      "DL Time:  0.145239 / 0.417813 = 34.76%\n",
      "\n",
      "\n"
     ]
    },
    {
     "data": {
      "application/vnd.jupyter.widget-view+json": {
       "model_id": "819d7989ed624e98aac7837156ee5d02",
       "version_major": 2,
       "version_minor": 0
      },
      "text/plain": [
       "HBox(children=(FloatProgress(value=1.0, bar_style='info', max=1.0), HTML(value='')))"
      ]
     },
     "metadata": {},
     "output_type": "display_data"
    },
    {
     "name": "stdout",
     "output_type": "stream",
     "text": [
      "VT Time:  0.246965 / 0.384785 = 64.18%\n",
      "IO Time:  0.003117 / 0.384785 =  0.81%\n",
      "DL Time:  0.133025 / 0.384785 = 34.57%\n",
      "\n",
      "VT Time:  0.256890 / 0.393638 = 65.26%\n",
      "IO Time:  0.003002 / 0.393638 =  0.76%\n",
      "DL Time:  0.132240 / 0.393638 = 33.59%\n",
      "\n",
      "VT Time:  0.294537 / 0.483674 = 60.90%\n",
      "IO Time:  0.003151 / 0.483674 =  0.65%\n",
      "DL Time:  0.183980 / 0.483674 = 38.04%\n",
      "\n",
      "VT Time:  0.299999 / 0.478861 = 62.65%\n",
      "IO Time:  0.003039 / 0.478861 =  0.63%\n",
      "DL Time:  0.173794 / 0.478861 = 36.29%\n",
      "\n",
      "VT Time:  0.280290 / 0.452298 = 61.97%\n",
      "IO Time:  0.003078 / 0.452298 =  0.68%\n",
      "DL Time:  0.167126 / 0.452298 = 36.95%\n",
      "\n",
      "VT Time:  0.284778 / 0.476170 = 59.81%\n",
      "IO Time:  0.003243 / 0.476170 =  0.68%\n",
      "DL Time:  0.186168 / 0.476170 = 39.10%\n",
      "\n",
      "\n"
     ]
    },
    {
     "data": {
      "application/vnd.jupyter.widget-view+json": {
       "model_id": "f3600af31116450a8fa23bdc62efd6a6",
       "version_major": 2,
       "version_minor": 0
      },
      "text/plain": [
       "HBox(children=(FloatProgress(value=1.0, bar_style='info', max=1.0), HTML(value='')))"
      ]
     },
     "metadata": {},
     "output_type": "display_data"
    },
    {
     "name": "stdout",
     "output_type": "stream",
     "text": [
      "VT Time:  0.295862 / 0.459032 = 64.45%\n",
      "IO Time:  0.003027 / 0.459032 =  0.66%\n",
      "DL Time:  0.158504 / 0.459032 = 34.53%\n",
      "\n",
      "VT Time:  0.285892 / 0.488490 = 58.53%\n",
      "IO Time:  0.003241 / 0.488490 =  0.66%\n",
      "DL Time:  0.197453 / 0.488490 = 40.42%\n",
      "\n",
      "VT Time:  0.290224 / 0.468928 = 61.89%\n",
      "IO Time:  0.003112 / 0.468928 =  0.66%\n",
      "DL Time:  0.173814 / 0.468928 = 37.07%\n",
      "\n",
      "VT Time:  0.313699 / 0.496846 = 63.14%\n",
      "IO Time:  0.003420 / 0.496846 =  0.69%\n",
      "DL Time:  0.177783 / 0.496846 = 35.78%\n",
      "\n",
      "VT Time:  0.316794 / 0.509048 = 62.23%\n",
      "IO Time:  0.003397 / 0.509048 =  0.67%\n",
      "DL Time:  0.187003 / 0.509048 = 36.74%\n",
      "\n",
      "VT Time:  0.322222 / 0.498112 = 64.69%\n",
      "IO Time:  0.003182 / 0.498112 =  0.64%\n",
      "DL Time:  0.170791 / 0.498112 = 34.29%\n",
      "\n",
      "\n"
     ]
    }
   ],
   "source": [
    "datasets = ['train', 'val', 'test']\n",
    "batch_size=64\n",
    "batch_size = 16\n",
    "\n",
    "start = time.perf_counter()\n",
    "\n",
    "for dataset in datasets:\n",
    "    \n",
    "    with open(f'filelists/ljs_audio_text_{dataset}_filelist.txt', 'r') as f:\n",
    "        lines_raw = [line.split('|') for line in f.read().splitlines()]\n",
    "        lines_list = [ lines_raw[batch_size*i:batch_size*(i+1)] \n",
    "                      for i in range(len(lines_raw)//batch_size+1)]\n",
    "        \n",
    "    for num, batch in tqdm(enumerate(lines_list)):\n",
    "        \n",
    "        single_loop_start = time.perf_counter()\n",
    "        \n",
    "        file_list, text_list, mel_list = [], [], []\n",
    "        text_lengths, mel_lengths=[], []\n",
    "        \n",
    "        for i in range(len(batch)):\n",
    "            file_name, _, text = batch[i]\n",
    "            file_list.append(file_name)\n",
    "            seq_path = os.path.join('../Dataset/LJSpeech-1.1/preprocessed',\n",
    "                               f'{data_type}_seq')\n",
    "            mel_path = os.path.join('../Dataset/LJSpeech-1.1/preprocessed',\n",
    "                               'melspectrogram')\n",
    "            try:\n",
    "                seq = torch.from_numpy(np.load(f'{seq_path}/{file_name}_sequence.npy'))\n",
    "            except FileNotFoundError:\n",
    "                with open(f'{seq_path}/{file_name}_sequence.pkl', 'rb') as f:\n",
    "                    seq = pkl.load(f)\n",
    "            \n",
    "            try:\n",
    "                mel = torch.from_numpy(np.load(f'{mel_path}/{file_name}_melspectrogram.npy'))\n",
    "            except FileNotFoundError:\n",
    "                with open(f'{mel_path}/{file_name}_melspectrogram.pkl', 'rb') as f:\n",
    "                    mel = pkl.load(f)\n",
    "            \n",
    "            text_list.append(seq)\n",
    "            mel_list.append(mel)\n",
    "            text_lengths.append(seq.size(0))\n",
    "            mel_lengths.append(mel.size(1))\n",
    "            \n",
    "        io_time = time.perf_counter()\n",
    "            \n",
    "        text_lengths = torch.LongTensor(text_lengths)\n",
    "        mel_lengths = torch.LongTensor(mel_lengths)\n",
    "        text_padded = torch.zeros(len(batch), text_lengths.max().item(), dtype=torch.long)\n",
    "        mel_padded = torch.zeros(len(batch), hparams.n_mel_channels, mel_lengths.max().item())\n",
    "        \n",
    "        for j in range(len(batch)):\n",
    "            text_padded[j, :text_list[j].size(0)] = text_list[j]\n",
    "            mel_padded[j, :, :mel_list[j].size(1)] = mel_list[j]\n",
    "        \n",
    "        text_padded = text_padded.cuda()\n",
    "        mel_padded = mel_padded.cuda()\n",
    "        text_lengths = text_lengths.cuda()\n",
    "        mel_lengths = mel_lengths.cuda()\n",
    "        \n",
    "        with torch.no_grad():\n",
    "            \n",
    "            model_start = time.perf_counter()\n",
    "            \n",
    "            encoder_input = model.Prenet(text_padded)\n",
    "            hidden_states, _ = model.FFT_lower(encoder_input, text_lengths)\n",
    "            mu_sigma = model.get_mu_sigma(hidden_states)\n",
    "            _, log_prob_matrix = criterion(mu_sigma, mel_padded, text_lengths, mel_lengths)\n",
    "            \n",
    "            viterbi_start = time.perf_counter()\n",
    "\n",
    "            align = model.viterbi(log_prob_matrix, text_lengths, mel_lengths).to(torch.long)\n",
    "            alignments = list(torch.split(align,1))\n",
    "            \n",
    "            viterbi_end = time.perf_counter()\n",
    "        \n",
    "        print('VT Time: ', end=' ')\n",
    "        print(f'{viterbi_end - viterbi_start:.6f} / {viterbi_end - single_loop_start:.6f} = ' +\n",
    "             f'{(viterbi_end - viterbi_start) / (viterbi_end - single_loop_start) * 100:5.2f}%')\n",
    "        \n",
    "        print('IO Time: ', end=' ')\n",
    "        print(f'{io_time - single_loop_start:.6f} / {viterbi_end - single_loop_start:.6f} = ' +\n",
    "             f'{(io_time - single_loop_start) / (viterbi_end - single_loop_start) * 100:5.2f}%')\n",
    "        \n",
    "        print('DL Time: ', end=' ')\n",
    "        print(f'{viterbi_start - model_start:.6f} / {viterbi_end - single_loop_start:.6f} = ' +\n",
    "             f'{(viterbi_start - model_start) / (viterbi_end - single_loop_start) * 100:5.2f}%')\n",
    "        \n",
    "#         print(alignments[0].shape)\n",
    "\n",
    "        print()\n",
    "        \n",
    "        if num >= 5:\n",
    "            break\n",
    "       \n",
    "#         for j, (l, t) in enumerate(zip(text_lengths, mel_lengths)):\n",
    "#             alignments[j] = alignments[j][0, :l.item(), :t.item()].sum(dim=-1)\n",
    "#             np.save(f'../Dataset/LJSpeech-1.1/preprocessed/alignments/{file_list[j]}_alignment.npy',\n",
    "#                     alignments[j].detach().cpu().numpy())"
   ]
  },
  {
   "cell_type": "code",
   "execution_count": 20,
   "metadata": {},
   "outputs": [
    {
     "data": {
      "application/vnd.jupyter.widget-view+json": {
       "model_id": "30b76d204fe84196b055b99b0bfeb734",
       "version_major": 2,
       "version_minor": 0
      },
      "text/plain": [
       "HBox(children=(FloatProgress(value=1.0, bar_style='info', max=1.0), HTML(value='')))"
      ]
     },
     "metadata": {},
     "output_type": "display_data"
    },
    {
     "name": "stdout",
     "output_type": "stream",
     "text": [
      "VT Time:  0.152491 / 0.351124 = 43.43%\n",
      "IO Time:  0.004881 / 0.351124 =  1.39%\n",
      "DL Time:  0.191694 / 0.351124 = 54.59%\n",
      "\n",
      "VT Time:  0.140085 / 0.319928 = 43.79%\n",
      "IO Time:  0.003766 / 0.319928 =  1.18%\n",
      "DL Time:  0.174198 / 0.319928 = 54.45%\n",
      "\n",
      "VT Time:  0.201152 / 0.383323 = 52.48%\n",
      "IO Time:  0.003156 / 0.383323 =  0.82%\n",
      "DL Time:  0.176623 / 0.383323 = 46.08%\n",
      "\n",
      "VT Time:  0.144697 / 0.325955 = 44.39%\n",
      "IO Time:  0.003316 / 0.325955 =  1.02%\n",
      "DL Time:  0.175389 / 0.325955 = 53.81%\n",
      "\n",
      "VT Time:  0.141139 / 0.321545 = 43.89%\n",
      "IO Time:  0.003233 / 0.321545 =  1.01%\n",
      "DL Time:  0.175413 / 0.321545 = 54.55%\n",
      "\n",
      "VT Time:  0.163187 / 0.332206 = 49.12%\n",
      "IO Time:  0.003260 / 0.332206 =  0.98%\n",
      "DL Time:  0.163944 / 0.332206 = 49.35%\n",
      "\n",
      "\n"
     ]
    },
    {
     "data": {
      "application/vnd.jupyter.widget-view+json": {
       "model_id": "1e6e0abf15f047678ad4c7bf0cbfc791",
       "version_major": 2,
       "version_minor": 0
      },
      "text/plain": [
       "HBox(children=(FloatProgress(value=1.0, bar_style='info', max=1.0), HTML(value='')))"
      ]
     },
     "metadata": {},
     "output_type": "display_data"
    },
    {
     "name": "stdout",
     "output_type": "stream",
     "text": [
      "VT Time:  0.212011 / 0.424983 = 49.89%\n",
      "IO Time:  0.003214 / 0.424983 =  0.76%\n",
      "DL Time:  0.200228 / 0.424983 = 47.11%\n",
      "\n",
      "VT Time:  0.164125 / 0.368553 = 44.53%\n",
      "IO Time:  0.003056 / 0.368553 =  0.83%\n",
      "DL Time:  0.198048 / 0.368553 = 53.74%\n",
      "\n",
      "VT Time:  0.347008 / 0.603943 = 57.46%\n",
      "IO Time:  0.009084 / 0.603943 =  1.50%\n",
      "DL Time:  0.245851 / 0.603943 = 40.71%\n",
      "\n",
      "VT Time:  0.300127 / 0.535661 = 56.03%\n",
      "IO Time:  0.004643 / 0.535661 =  0.87%\n",
      "DL Time:  0.225264 / 0.535661 = 42.05%\n",
      "\n",
      "VT Time:  0.296904 / 0.551160 = 53.87%\n",
      "IO Time:  0.004843 / 0.551160 =  0.88%\n",
      "DL Time:  0.247653 / 0.551160 = 44.93%\n",
      "\n",
      "VT Time:  0.257527 / 0.519989 = 49.53%\n",
      "IO Time:  0.007526 / 0.519989 =  1.45%\n",
      "DL Time:  0.249244 / 0.519989 = 47.93%\n",
      "\n",
      "\n"
     ]
    },
    {
     "data": {
      "application/vnd.jupyter.widget-view+json": {
       "model_id": "74e193f272b04c4e9d4c9dd2c36a080d",
       "version_major": 2,
       "version_minor": 0
      },
      "text/plain": [
       "HBox(children=(FloatProgress(value=1.0, bar_style='info', max=1.0), HTML(value='')))"
      ]
     },
     "metadata": {},
     "output_type": "display_data"
    },
    {
     "name": "stdout",
     "output_type": "stream",
     "text": [
      "VT Time:  0.303565 / 0.578213 = 52.50%\n",
      "IO Time:  0.003285 / 0.578213 =  0.57%\n",
      "DL Time:  0.269647 / 0.578213 = 46.63%\n",
      "\n",
      "VT Time:  0.216774 / 0.420632 = 51.54%\n",
      "IO Time:  0.005170 / 0.420632 =  1.23%\n",
      "DL Time:  0.194095 / 0.420632 = 46.14%\n",
      "\n",
      "VT Time:  0.274816 / 0.562742 = 48.84%\n",
      "IO Time:  0.003421 / 0.562742 =  0.61%\n",
      "DL Time:  0.282802 / 0.562742 = 50.25%\n",
      "\n",
      "VT Time:  0.299667 / 0.600331 = 49.92%\n",
      "IO Time:  0.006365 / 0.600331 =  1.06%\n",
      "DL Time:  0.292344 / 0.600331 = 48.70%\n",
      "\n",
      "VT Time:  0.215408 / 0.464216 = 46.40%\n",
      "IO Time:  0.004366 / 0.464216 =  0.94%\n",
      "DL Time:  0.242438 / 0.464216 = 52.23%\n",
      "\n",
      "VT Time:  0.127434 / 0.345074 = 36.93%\n",
      "IO Time:  0.004589 / 0.345074 =  1.33%\n",
      "DL Time:  0.210919 / 0.345074 = 61.12%\n",
      "\n",
      "\n"
     ]
    }
   ],
   "source": [
    "datasets = ['train', 'val', 'test']\n",
    "batch_size=64\n",
    "batch_size = 16\n",
    "\n",
    "start = time.perf_counter()\n",
    "\n",
    "for dataset in datasets:\n",
    "    \n",
    "    with open(f'filelists/ljs_audio_text_{dataset}_filelist.txt', 'r') as f:\n",
    "        lines_raw = [line.split('|') for line in f.read().splitlines()]\n",
    "        lines_list = [ lines_raw[batch_size*i:batch_size*(i+1)] \n",
    "                      for i in range(len(lines_raw)//batch_size+1)]\n",
    "        \n",
    "    for num, batch in tqdm(enumerate(lines_list)):\n",
    "        \n",
    "        single_loop_start = time.perf_counter()\n",
    "        \n",
    "        file_list, text_list, mel_list = [], [], []\n",
    "        text_lengths, mel_lengths=[], []\n",
    "        \n",
    "        for i in range(len(batch)):\n",
    "            file_name, _, text = batch[i]\n",
    "            file_list.append(file_name)\n",
    "            seq_path = os.path.join('../Dataset/LJSpeech-1.1/preprocessed',\n",
    "                               f'{data_type}_seq')\n",
    "            mel_path = os.path.join('../Dataset/LJSpeech-1.1/preprocessed',\n",
    "                               'melspectrogram')\n",
    "            try:\n",
    "                seq = torch.from_numpy(np.load(f'{seq_path}/{file_name}_sequence.npy'))\n",
    "            except FileNotFoundError:\n",
    "                with open(f'{seq_path}/{file_name}_sequence.pkl', 'rb') as f:\n",
    "                    seq = pkl.load(f)\n",
    "            \n",
    "            try:\n",
    "                mel = torch.from_numpy(np.load(f'{mel_path}/{file_name}_melspectrogram.npy'))\n",
    "            except FileNotFoundError:\n",
    "                with open(f'{mel_path}/{file_name}_melspectrogram.pkl', 'rb') as f:\n",
    "                    mel = pkl.load(f)\n",
    "            \n",
    "            text_list.append(seq)\n",
    "            mel_list.append(mel)\n",
    "            text_lengths.append(seq.size(0))\n",
    "            mel_lengths.append(mel.size(1))\n",
    "            \n",
    "        io_time = time.perf_counter()\n",
    "            \n",
    "        text_lengths = torch.LongTensor(text_lengths)\n",
    "        mel_lengths = torch.LongTensor(mel_lengths)\n",
    "        text_padded = torch.zeros(len(batch), text_lengths.max().item(), dtype=torch.long)\n",
    "        mel_padded = torch.zeros(len(batch), hparams.n_mel_channels, mel_lengths.max().item())\n",
    "        \n",
    "        for j in range(len(batch)):\n",
    "            text_padded[j, :text_list[j].size(0)] = text_list[j]\n",
    "            mel_padded[j, :, :mel_list[j].size(1)] = mel_list[j]\n",
    "        \n",
    "        text_padded = text_padded.cuda()\n",
    "        mel_padded = mel_padded.cuda()\n",
    "        text_lengths = text_lengths.cuda()\n",
    "        mel_lengths = mel_lengths.cuda()\n",
    "        \n",
    "        with torch.no_grad():\n",
    "            \n",
    "            model_start = time.perf_counter()\n",
    "            \n",
    "            encoder_input = model.Prenet(text_padded)\n",
    "            hidden_states, _ = model.FFT_lower(encoder_input, text_lengths)\n",
    "            mu_sigma = model.get_mu_sigma(hidden_states)\n",
    "            _, log_prob_matrix = criterion(mu_sigma, mel_padded, text_lengths, mel_lengths)\n",
    "            \n",
    "            viterbi_start = time.perf_counter()\n",
    "\n",
    "            align = model.viterbi_cpu(log_prob_matrix, text_lengths.cpu(), mel_lengths.cpu()).to(torch.long)\n",
    "            alignments = list(torch.split(align,1))\n",
    "            \n",
    "            viterbi_end = time.perf_counter()\n",
    "        \n",
    "        print('VT Time: ', end=' ')\n",
    "        print(f'{viterbi_end - viterbi_start:.6f} / {viterbi_end - single_loop_start:.6f} = ' +\n",
    "             f'{(viterbi_end - viterbi_start) / (viterbi_end - single_loop_start) * 100:5.2f}%')\n",
    "        \n",
    "        print('IO Time: ', end=' ')\n",
    "        print(f'{io_time - single_loop_start:.6f} / {viterbi_end - single_loop_start:.6f} = ' +\n",
    "             f'{(io_time - single_loop_start) / (viterbi_end - single_loop_start) * 100:5.2f}%')\n",
    "        \n",
    "        print('DL Time: ', end=' ')\n",
    "        print(f'{viterbi_start - model_start:.6f} / {viterbi_end - single_loop_start:.6f} = ' +\n",
    "             f'{(viterbi_start - model_start) / (viterbi_end - single_loop_start) * 100:5.2f}%')\n",
    "        \n",
    "#         print(alignments[0].shape)\n",
    "\n",
    "        print()\n",
    "        \n",
    "        if num >= 5:\n",
    "            break\n",
    "       \n",
    "#         for j, (l, t) in enumerate(zip(text_lengths, mel_lengths)):\n",
    "#             alignments[j] = alignments[j][0, :l.item(), :t.item()].sum(dim=-1)\n",
    "#             np.save(f'../Dataset/LJSpeech-1.1/preprocessed/alignments/{file_list[j]}_alignment.npy',\n",
    "#                     alignments[j].detach().cpu().numpy())"
   ]
  },
  {
   "cell_type": "code",
   "execution_count": 27,
   "metadata": {
    "scrolled": false
   },
   "outputs": [
    {
     "data": {
      "application/vnd.jupyter.widget-view+json": {
       "model_id": "ef315d282db247279ceae6e75faff1ba",
       "version_major": 2,
       "version_minor": 0
      },
      "text/plain": [
       "HBox(children=(FloatProgress(value=1.0, bar_style='info', max=1.0), HTML(value='')))"
      ]
     },
     "metadata": {},
     "output_type": "display_data"
    },
    {
     "name": "stdout",
     "output_type": "stream",
     "text": [
      "VT_ Time:  0.400385\n",
      "VTF Time:  0.231643 / 0.458897 = 50.48%\n",
      "IO_ Time:  0.005225 / 0.458897 =  1.14%\n",
      "DL_ Time:  0.213661 / 0.458897 = 46.56%\n",
      "\n",
      "VT_ Time:  0.451082\n",
      "VTF Time:  0.314608 / 0.547268 = 57.49%\n",
      "IO_ Time:  0.005696 / 0.547268 =  1.04%\n",
      "DL_ Time:  0.224933 / 0.547268 = 41.10%\n",
      "\n",
      "VT_ Time:  0.496008\n",
      "VTF Time:  0.261830 / 0.556449 = 47.05%\n",
      "IO_ Time:  0.010246 / 0.556449 =  1.84%\n",
      "DL_ Time:  0.282315 / 0.556449 = 50.74%\n",
      "\n",
      "VT_ Time:  0.540181\n",
      "VTF Time:  0.246626 / 0.446843 = 55.19%\n",
      "IO_ Time:  0.008264 / 0.446843 =  1.85%\n",
      "DL_ Time:  0.190084 / 0.446843 = 42.54%\n",
      "\n",
      "VT_ Time:  0.329698\n",
      "VTF Time:  0.150063 / 0.443889 = 33.81%\n",
      "IO_ Time:  0.005283 / 0.443889 =  1.19%\n",
      "DL_ Time:  0.284028 / 0.443889 = 63.99%\n",
      "\n",
      "VT_ Time:  0.481985\n",
      "VTF Time:  0.173582 / 0.328670 = 52.81%\n",
      "IO_ Time:  0.003396 / 0.328670 =  1.03%\n",
      "DL_ Time:  0.150070 / 0.328670 = 45.66%\n",
      "\n",
      "\n"
     ]
    },
    {
     "data": {
      "application/vnd.jupyter.widget-view+json": {
       "model_id": "2fdfc4d7dce548c69862ad8234fc5784",
       "version_major": 2,
       "version_minor": 0
      },
      "text/plain": [
       "HBox(children=(FloatProgress(value=1.0, bar_style='info', max=1.0), HTML(value='')))"
      ]
     },
     "metadata": {},
     "output_type": "display_data"
    },
    {
     "name": "stdout",
     "output_type": "stream",
     "text": [
      "VT_ Time:  0.380365\n",
      "VTF Time:  0.146097 / 0.500832 = 29.17%\n",
      "IO_ Time:  0.004429 / 0.500832 =  0.88%\n",
      "DL_ Time:  0.340159 / 0.500832 = 67.92%\n",
      "\n",
      "VT_ Time:  0.386520\n",
      "VTF Time:  0.316907 / 0.609288 = 52.01%\n",
      "IO_ Time:  0.004943 / 0.609288 =  0.81%\n",
      "DL_ Time:  0.280727 / 0.609288 = 46.07%\n",
      "\n",
      "VT_ Time:  0.517519\n",
      "VTF Time:  0.286946 / 0.554350 = 51.76%\n",
      "IO_ Time:  0.006563 / 0.554350 =  1.18%\n",
      "DL_ Time:  0.255564 / 0.554350 = 46.10%\n",
      "\n",
      "VT_ Time:  0.497233\n",
      "VTF Time:  0.300808 / 0.600893 = 50.06%\n",
      "IO_ Time:  0.003936 / 0.600893 =  0.66%\n",
      "DL_ Time:  0.286254 / 0.600893 = 47.64%\n",
      "\n",
      "VT_ Time:  0.875657\n",
      "VTF Time:  0.261594 / 0.509388 = 51.35%\n",
      "IO_ Time:  0.004382 / 0.509388 =  0.86%\n",
      "DL_ Time:  0.233244 / 0.509388 = 45.79%\n",
      "\n",
      "VT_ Time:  0.759679\n",
      "VTF Time:  0.309536 / 0.556519 = 55.62%\n",
      "IO_ Time:  0.005051 / 0.556519 =  0.91%\n",
      "DL_ Time:  0.237672 / 0.556519 = 42.71%\n",
      "\n",
      "\n"
     ]
    },
    {
     "data": {
      "application/vnd.jupyter.widget-view+json": {
       "model_id": "c83e970decd342ebbba765bca20f50db",
       "version_major": 2,
       "version_minor": 0
      },
      "text/plain": [
       "HBox(children=(FloatProgress(value=1.0, bar_style='info', max=1.0), HTML(value='')))"
      ]
     },
     "metadata": {},
     "output_type": "display_data"
    },
    {
     "name": "stdout",
     "output_type": "stream",
     "text": [
      "VT_ Time:  0.555144\n",
      "VTF Time:  0.205186 / 0.402470 = 50.98%\n",
      "IO_ Time:  0.003361 / 0.402470 =  0.84%\n",
      "DL_ Time:  0.190745 / 0.402470 = 47.39%\n",
      "\n",
      "VT_ Time:  0.678756\n",
      "VTF Time:  0.216808 / 0.419799 = 51.65%\n",
      "IO_ Time:  0.004863 / 0.419799 =  1.16%\n",
      "DL_ Time:  0.190060 / 0.419799 = 45.27%\n",
      "\n",
      "VT_ Time:  0.462600\n",
      "VTF Time:  0.141788 / 0.326047 = 43.49%\n",
      "IO_ Time:  0.003817 / 0.326047 =  1.17%\n",
      "DL_ Time:  0.178519 / 0.326047 = 54.75%\n",
      "\n",
      "VT_ Time:  0.581321\n",
      "VTF Time:  0.177971 / 0.379570 = 46.89%\n",
      "IO_ Time:  0.003818 / 0.379570 =  1.01%\n",
      "DL_ Time:  0.195699 / 0.379570 = 51.56%\n",
      "\n",
      "VT_ Time:  0.472520\n",
      "VTF Time:  0.166802 / 0.399579 = 41.74%\n",
      "IO_ Time:  0.004323 / 0.399579 =  1.08%\n",
      "DL_ Time:  0.223962 / 0.399579 = 56.05%\n",
      "\n",
      "VT_ Time:  0.693692\n",
      "VTF Time:  0.223684 / 0.431598 = 51.83%\n",
      "IO_ Time:  0.004292 / 0.431598 =  0.99%\n",
      "DL_ Time:  0.199701 / 0.431598 = 46.27%\n",
      "\n",
      "\n"
     ]
    }
   ],
   "source": [
    "datasets = ['train', 'val', 'test']\n",
    "batch_size=64\n",
    "batch_size = 16\n",
    "\n",
    "start = time.perf_counter()\n",
    "\n",
    "for dataset in datasets:\n",
    "    \n",
    "    with open(f'filelists/ljs_audio_text_{dataset}_filelist.txt', 'r') as f:\n",
    "        lines_raw = [line.split('|') for line in f.read().splitlines()]\n",
    "        lines_list = [ lines_raw[batch_size*i:batch_size*(i+1)] \n",
    "                      for i in range(len(lines_raw)//batch_size+1)]\n",
    "        \n",
    "    for num, batch in tqdm(enumerate(lines_list)):\n",
    "        \n",
    "        single_loop_start = time.perf_counter()\n",
    "        \n",
    "        file_list, text_list, mel_list = [], [], []\n",
    "        text_lengths, mel_lengths=[], []\n",
    "        \n",
    "        for i in range(len(batch)):\n",
    "            file_name, _, text = batch[i]\n",
    "            file_list.append(file_name)\n",
    "            seq_path = os.path.join('../Dataset/LJSpeech-1.1/preprocessed',\n",
    "                               f'{data_type}_seq')\n",
    "            mel_path = os.path.join('../Dataset/LJSpeech-1.1/preprocessed',\n",
    "                               'melspectrogram')\n",
    "            try:\n",
    "                seq = torch.from_numpy(np.load(f'{seq_path}/{file_name}_sequence.npy'))\n",
    "            except FileNotFoundError:\n",
    "                with open(f'{seq_path}/{file_name}_sequence.pkl', 'rb') as f:\n",
    "                    seq = pkl.load(f)\n",
    "            \n",
    "            try:\n",
    "                mel = torch.from_numpy(np.load(f'{mel_path}/{file_name}_melspectrogram.npy'))\n",
    "            except FileNotFoundError:\n",
    "                with open(f'{mel_path}/{file_name}_melspectrogram.pkl', 'rb') as f:\n",
    "                    mel = pkl.load(f)\n",
    "            \n",
    "            text_list.append(seq)\n",
    "            mel_list.append(mel)\n",
    "            text_lengths.append(seq.size(0))\n",
    "            mel_lengths.append(mel.size(1))\n",
    "            \n",
    "        io_time = time.perf_counter()\n",
    "            \n",
    "        text_lengths = torch.LongTensor(text_lengths)\n",
    "        mel_lengths = torch.LongTensor(mel_lengths)\n",
    "        text_padded = torch.zeros(len(batch), text_lengths.max().item(), dtype=torch.long)\n",
    "        mel_padded = torch.zeros(len(batch), hparams.n_mel_channels, mel_lengths.max().item())\n",
    "        \n",
    "        for j in range(len(batch)):\n",
    "            text_padded[j, :text_list[j].size(0)] = text_list[j]\n",
    "            mel_padded[j, :, :mel_list[j].size(1)] = mel_list[j]\n",
    "        \n",
    "        text_padded = text_padded.cuda()\n",
    "        mel_padded = mel_padded.cuda()\n",
    "        text_lengths = text_lengths.cuda()\n",
    "        mel_lengths = mel_lengths.cuda()\n",
    "        \n",
    "        with torch.no_grad():\n",
    "            \n",
    "            model_start = time.perf_counter()\n",
    "            \n",
    "            encoder_input = model.Prenet(text_padded)\n",
    "            hidden_states, _ = model.FFT_lower(encoder_input, text_lengths)\n",
    "            mu_sigma = model.get_mu_sigma(hidden_states)\n",
    "            _, log_prob_matrix = criterion(mu_sigma, mel_padded, text_lengths, mel_lengths)\n",
    "            \n",
    "            viterbi_start = time.perf_counter()\n",
    "\n",
    "#             align_ = model.fast_viterbi(log_prob_matrix, text_lengths, mel_lengths).to(log_prob_matrix.device)\n",
    "#             alignments_ = list(torch.split(align_,1))\n",
    "            align_ = model.viterbi_cpu(log_prob_matrix, text_lengths.cpu(), mel_lengths.cpu())\n",
    "            alignments_ = list(torch.split(align_,1))\n",
    "            \n",
    "            viterbi_end = time.perf_counter()\n",
    "            \n",
    "            viterbi_origin_start = time.perf_counter()\n",
    "\n",
    "            align = model.viterbi(log_prob_matrix, text_lengths, mel_lengths).to(torch.long)\n",
    "            alignments = list(torch.split(align,1))\n",
    "            \n",
    "            viterbi_origin_end = time.perf_counter()\n",
    "            \n",
    "#         print(alignments_ == alignments)\n",
    "        \n",
    "        print('VT_ Time: ', end=' ')\n",
    "        print(f'{viterbi_origin_end - viterbi_origin_start:.6f}')\n",
    "              \n",
    "        print('VTF Time: ', end=' ')\n",
    "        print(f'{viterbi_end - viterbi_start:.6f} / {viterbi_end - single_loop_start:.6f} = ' +\n",
    "             f'{(viterbi_end - viterbi_start) / (viterbi_end - single_loop_start) * 100:5.2f}%')\n",
    "       \n",
    "    \n",
    "        print('IO_ Time: ', end=' ')\n",
    "        print(f'{io_time - single_loop_start:.6f} / {viterbi_end - single_loop_start:.6f} = ' +\n",
    "             f'{(io_time - single_loop_start) / (viterbi_end - single_loop_start) * 100:5.2f}%')\n",
    "        \n",
    "        print('DL_ Time: ', end=' ')\n",
    "        print(f'{viterbi_start - model_start:.6f} / {viterbi_end - single_loop_start:.6f} = ' +\n",
    "             f'{(viterbi_start - model_start) / (viterbi_end - single_loop_start) * 100:5.2f}%')\n",
    "        \n",
    "        print()\n",
    "        \n",
    "        \n",
    "        \n",
    "        if num >= 5:\n",
    "            break\n",
    "       \n",
    "#         for j, (l, t) in enumerate(zip(text_lengths, mel_lengths)):\n",
    "#             alignments[j] = alignments[j][0, :l.item(), :t.item()].sum(dim=-1)\n",
    "#             np.save(f'../Dataset/LJSpeech-1.1/preprocessed/alignments/{file_list[j]}_alignment.npy',\n",
    "#                     alignments[j].detach().cpu().numpy())"
   ]
  },
  {
   "cell_type": "code",
   "execution_count": 30,
   "metadata": {},
   "outputs": [
    {
     "data": {
      "text/plain": [
       "torch.Size([1, 161, 863])"
      ]
     },
     "execution_count": 30,
     "metadata": {},
     "output_type": "execute_result"
    }
   ],
   "source": [
    "alignments_[0].shape\n",
    "alignments[0].shape"
   ]
  },
  {
   "cell_type": "code",
   "execution_count": 31,
   "metadata": {
    "scrolled": false
   },
   "outputs": [
    {
     "data": {
      "image/png": "[encoded data removed]",
      "text/plain": [
       "<Figure size 1008x864 with 3 Axes>"
      ]
     },
     "metadata": {
      "needs_background": "light"
     },
     "output_type": "display_data"
    }
   ],
   "source": [
    "fig, axes = plt.subplots(3, 1, figsize=(14, 12))\n",
    "\n",
    "axes[0].imshow(alignments_[0].cpu()[0, :, :])\n",
    "axes[1].imshow(alignments[0].cpu()[0, :, :])\n",
    "axes[2].imshow(alignments_[0].cpu()[0, :, :] - alignments[0].cpu()\n",
    "               [0, :, :])\n",
    "plt.tight_layout()          \n",
    "plt.show()"
   ]
  },
  {
   "cell_type": "code",
   "execution_count": null,
   "metadata": {},
   "outputs": [],
   "source": []
  }
 ],
 "metadata": {
  "kernelspec": {
   "display_name": "Python 3",
   "language": "python",
   "name": "python3"
  },
  "language_info": {
   "codemirror_mode": {
    "name": "ipython",
    "version": 3
   },
   "file_extension": ".py",
   "mimetype": "text/x-python",
   "name": "python",
   "nbconvert_exporter": "python",
   "pygments_lexer": "ipython3",
   "version": "3.8.3"
  }
 },
 "nbformat": 4,
 "nbformat_minor": 2
}
