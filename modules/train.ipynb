{
 "cells": [
  {
   "cell_type": "code",
   "execution_count": 1,
   "metadata": {
    "scrolled": true
   },
   "outputs": [],
   "source": [
    "import os, argparse\n",
    "import torch\n",
    "import torch.nn as nn\n",
    "import torch.nn.functional as F\n",
    "from modules.model import Model\n",
    "from modules.loss import MDNLoss\n",
    "import hparams\n",
    "from text import *\n",
    "from utils.utils import *\n",
    "from utils.writer import get_writer\n",
    "from torch.utils.tensorboard import SummaryWriter\n",
    "\n",
    "os.environ[\"CUDA_VISIBLE_DEVICES\"]='0'\n",
    "torch.manual_seed(hparams.seed)\n",
    "torch.cuda.manual_seed(hparams.seed)\n",
    "    \n",
    "train_loader, val_loader, collate_fn = prepare_dataloaders(hparams)\n",
    "model = Model(hparams).cuda()\n",
    "criterion = MDNLoss()\n",
    "optimizer = torch.optim.Adam(model.parameters(),\n",
    "                             lr=hparams.lr,\n",
    "                             betas=(0.9, 0.98),\n",
    "                             eps=1e-09)"
   ]
  },
  {
   "cell_type": "code",
   "execution_count": 2,
   "metadata": {},
   "outputs": [
    {
     "name": "stdout",
     "output_type": "stream",
     "text": [
      "Training Start!!!\n"
     ]
    },
    {
     "name": "stderr",
     "output_type": "stream",
     "text": [
      "/home/ubuntu/anaconda3/envs/pytorch_p36/AlignTTS/utils/utils.py:44: UserWarning: To copy construct from a tensor, it is recommended to use sourceTensor.clone().detach() or sourceTensor.clone().detach().requires_grad_(True), rather than tensor.new_tensor(sourceTensor).\n",
      "  ids = lengths.new_tensor(torch.arange(0, max_len))\n"
     ]
    }
   ],
   "source": [
    "iteration, loss = 0, 0\n",
    "model.train()\n",
    "print(\"Training Start!!!\")\n",
    "for i, batch in enumerate(train_loader):\n",
    "    text_padded, text_lengths, mel_padded, mel_lengths = [\n",
    "        x.cuda() for x in batch\n",
    "    ]\n",
    "    mel_padded = (mel_padded - torch.min(mel_padded))/torch.max((mel_padded - torch.min(mel_padded)))\n",
    "\n",
    "    mu, sigma = model(text_padded,\n",
    "                     mel_padded,\n",
    "                     None,\n",
    "                     text_lengths,\n",
    "                     mel_lengths,\n",
    "                     criterion,\n",
    "                     stage=0)\n",
    "    break\n",
    "    sub_loss = mdn_loss.mean()/hparams.accumulation\n",
    "    sub_loss.backward()\n",
    "    loss = loss+sub_loss.item()\n",
    "\n",
    "    iteration += 1\n",
    "    if iteration%hparams.accumulation == 0:\n",
    "        lr_scheduling(optimizer, iteration//hparams.accumulation)\n",
    "        nn.utils.clip_grad_norm_(model.parameters(), hparams.grad_clip_thresh)\n",
    "        optimizer.step()\n",
    "        model.zero_grad()\n",
    "        loss=0"
   ]
  },
  {
   "cell_type": "code",
   "execution_count": 3,
   "metadata": {},
   "outputs": [],
   "source": [
    "mu_sigma = torch.cat([mu.squeeze(2), sigma.squeeze(2)], dim=-1)\n",
    "B, L, F = mu_sigma.size()\n",
    "T = mel_padded.size(2)\n",
    "\n",
    "x = mel_padded.transpose(1,2).unsqueeze(1) # B, 1, T, F\n",
    "mu = mu_sigma[:, :, :hparams.n_mel_channels].unsqueeze(2) # B, L, 1, F\n",
    "sigma = mu_sigma[:, :, hparams.n_mel_channels:].unsqueeze(2) # B, L, 1, F"
   ]
  },
  {
   "cell_type": "code",
   "execution_count": 4,
   "metadata": {},
   "outputs": [],
   "source": [
    "exponential = -0.5*torch.sum((x-mu)*(x-mu)/sigma**2, dim=-1) # B, L, T\n",
    "coef = (2*3.14)**(hparams.n_mel_channels/2) * torch.prod(sigma, dim=-1)**0.5 # B, L, 1\n",
    "\n",
    "prob_matrix = torch.exp(exponential) / coef # B, L, T"
   ]
  },
  {
   "cell_type": "code",
   "execution_count": null,
   "metadata": {},
   "outputs": [],
   "source": [
    "(2*3.14)**(hparams.n_mel_channels/2)"
   ]
  },
  {
   "cell_type": "code",
   "execution_count": 7,
   "metadata": {
    "scrolled": true
   },
   "outputs": [
    {
     "data": {
      "text/plain": [
       "tensor([[[1.7878e-27, 1.8860e-25, 7.1307e-25,  ..., 5.9631e-32,\n",
       "          3.4582e-32, 5.7192e-32],\n",
       "         [2.2234e-26, 2.3228e-25, 3.0743e-25,  ..., 4.6142e-31,\n",
       "          5.9364e-31, 5.4127e-31],\n",
       "         [1.9233e-25, 2.6044e-25, 4.1108e-25,  ..., 2.6783e-28,\n",
       "          1.6611e-28, 1.9354e-28],\n",
       "         ...,\n",
       "         [4.5936e-30, 1.0362e-28, 5.3460e-28,  ..., 3.5198e-33,\n",
       "          1.5913e-33, 1.0099e-32],\n",
       "         [5.0251e-30, 1.5029e-27, 1.8427e-26,  ..., 6.8919e-37,\n",
       "          1.6213e-36, 1.3485e-36],\n",
       "         [1.2304e-26, 3.4397e-25, 2.1573e-25,  ..., 3.4750e-31,\n",
       "          4.7190e-31, 1.0223e-30]],\n",
       "\n",
       "        [[1.4813e-28, 1.5204e-24, 1.8643e-25,  ..., 2.5170e-40,\n",
       "          2.5170e-40, 2.5170e-40],\n",
       "         [8.8440e-26, 2.8244e-22, 4.9172e-23,  ..., 4.7224e-43,\n",
       "          4.7224e-43, 4.7224e-43],\n",
       "         [5.4583e-25, 2.1930e-22, 1.5412e-23,  ..., 2.0067e-42,\n",
       "          2.0067e-42, 2.0067e-42],\n",
       "         ...,\n",
       "         [1.7104e-26, 4.5980e-24, 8.1279e-25,  ..., 4.7171e-39,\n",
       "          4.7171e-39, 4.7171e-39],\n",
       "         [7.9684e-26, 1.9815e-23, 3.9079e-24,  ..., 6.0194e-39,\n",
       "          6.0194e-39, 6.0194e-39],\n",
       "         [1.3547e-32, 2.3343e-25, 1.7201e-25,  ..., 0.0000e+00,\n",
       "          0.0000e+00, 0.0000e+00]],\n",
       "\n",
       "        [[4.2679e-24, 3.9026e-24, 1.3058e-24,  ..., 3.5308e-36,\n",
       "          3.5308e-36, 3.5308e-36],\n",
       "         [4.1724e-24, 1.8145e-24, 8.4367e-25,  ..., 5.4508e-41,\n",
       "          5.4508e-41, 5.4508e-41],\n",
       "         [2.3160e-23, 3.5804e-23, 1.3117e-23,  ..., 2.9108e-40,\n",
       "          2.9108e-40, 2.9108e-40],\n",
       "         ...,\n",
       "         [2.7786e-23, 1.1840e-24, 1.2633e-26,  ..., 0.0000e+00,\n",
       "          0.0000e+00, 0.0000e+00],\n",
       "         [1.0952e-24, 1.5617e-25, 2.4183e-26,  ..., 0.0000e+00,\n",
       "          0.0000e+00, 0.0000e+00],\n",
       "         [1.7749e-23, 3.7473e-24, 2.1219e-24,  ..., 7.8473e-44,\n",
       "          7.8473e-44, 7.8473e-44]],\n",
       "\n",
       "        ...,\n",
       "\n",
       "        [[4.3671e-30, 1.7948e-25, 2.8146e-24,  ..., 1.3657e-36,\n",
       "          1.3657e-36, 1.3657e-36],\n",
       "         [6.2939e-28, 2.0470e-25, 7.2232e-25,  ..., 2.1385e-39,\n",
       "          2.1385e-39, 2.1385e-39],\n",
       "         [2.8402e-27, 7.6392e-25, 1.7546e-24,  ..., 2.2618e-41,\n",
       "          2.2618e-41, 2.2618e-41],\n",
       "         ...,\n",
       "         [2.1249e-28, 4.8051e-25, 4.8270e-24,  ..., 4.2179e-43,\n",
       "          4.2179e-43, 4.2179e-43],\n",
       "         [2.1323e-27, 2.4628e-24, 2.3630e-23,  ..., 3.2012e-36,\n",
       "          3.2012e-36, 3.2012e-36],\n",
       "         [4.2039e-45, 7.1404e-35, 2.5023e-30,  ..., 1.5220e-39,\n",
       "          1.5220e-39, 1.5220e-39]],\n",
       "\n",
       "        [[4.0361e-26, 8.3502e-24, 5.2709e-26,  ..., 9.8848e-42,\n",
       "          9.8848e-42, 9.8848e-42],\n",
       "         [1.0854e-28, 1.3169e-26, 3.4115e-28,  ..., 2.2860e-39,\n",
       "          2.2860e-39, 2.2860e-39],\n",
       "         [1.7103e-36, 4.1647e-31, 3.1348e-30,  ..., 3.1651e-34,\n",
       "          3.1651e-34, 3.1651e-34],\n",
       "         ...,\n",
       "         [7.6633e-28, 2.5362e-26, 1.6540e-28,  ..., 7.3158e-40,\n",
       "          7.3158e-40, 7.3158e-40],\n",
       "         [8.0561e-34, 1.0695e-31, 4.2308e-34,  ..., 6.3058e-43,\n",
       "          6.3058e-43, 6.3058e-43],\n",
       "         [3.5998e-29, 1.9495e-26, 8.5142e-28,  ..., 4.6851e-41,\n",
       "          4.6851e-41, 4.6851e-41]],\n",
       "\n",
       "        [[4.8513e-32, 1.4603e-25, 4.6529e-26,  ..., 0.0000e+00,\n",
       "          0.0000e+00, 0.0000e+00],\n",
       "         [2.0536e-30, 2.0791e-24, 2.6430e-24,  ..., 9.2441e-41,\n",
       "          9.2441e-41, 9.2441e-41],\n",
       "         [5.2967e-33, 7.4872e-26, 3.4960e-25,  ..., 2.2022e-40,\n",
       "          2.2022e-40, 2.2022e-40],\n",
       "         ...,\n",
       "         [1.8828e-30, 2.4847e-25, 3.1100e-25,  ..., 1.0187e-42,\n",
       "          1.0187e-42, 1.0187e-42],\n",
       "         [1.1484e-35, 1.6141e-25, 3.0371e-24,  ..., 6.4362e-42,\n",
       "          6.4362e-42, 6.4362e-42],\n",
       "         [6.2038e-35, 5.0377e-27, 6.8115e-26,  ..., 7.5670e-44,\n",
       "          7.5670e-44, 7.5670e-44]]], device='cuda:0', grad_fn=<DivBackward0>)"
      ]
     },
     "execution_count": 7,
     "metadata": {},
     "output_type": "execute_result"
    }
   ],
   "source": [
    "prob_matrix"
   ]
  },
  {
   "cell_type": "markdown",
   "metadata": {},
   "source": [
    "#    \n",
    "#    \n",
    "#    \n",
    "#    \n",
    "#    \n",
    "#    \n",
    "#    \n",
    "#    "
   ]
  },
  {
   "cell_type": "code",
   "execution_count": null,
   "metadata": {},
   "outputs": [],
   "source": [
    "def validate(model, criterion, val_loader, iteration, writer):\n",
    "    model.eval()\n",
    "    with torch.no_grad():\n",
    "        n_data, val_loss = 0, 0\n",
    "        for i, batch in enumerate(val_loader):\n",
    "            n_data += len(batch[0])\n",
    "            text_padded, text_lengths, mel_padded, mel_lengths, gate_padded = [\n",
    "                x.cuda() for x in batch\n",
    "            ]\n",
    "            \n",
    "            mel_out, mel_out_post,\\\n",
    "            enc_alignments, dec_alignments, enc_dec_alignments, gate_out = model.module.outputs(text_padded,\n",
    "                                                                                                mel_padded,\n",
    "                                                                                                text_lengths,\n",
    "                                                                                                mel_lengths)\n",
    "        \n",
    "            mel_loss, bce_loss, guide_loss = criterion((mel_out, mel_out_post, gate_out),\n",
    "                                                       (mel_padded, gate_padded),\n",
    "                                                       (enc_dec_alignments, text_lengths, mel_lengths))\n",
    "            \n",
    "            loss = torch.mean(mel_loss+bce_loss+guide_loss)\n",
    "            val_loss += loss.item() * len(batch[0])\n",
    "\n",
    "        val_loss /= n_data\n",
    "\n",
    "    writer.add_losses(mel_loss.item(),\n",
    "                      bce_loss.item(),\n",
    "                      guide_loss.item(),\n",
    "                      iteration//hparams.accumulation, 'Validation')\n",
    "    \n",
    "    writer.add_specs(mel_padded.detach().cpu(),\n",
    "                     mel_out.detach().cpu(),\n",
    "                     mel_out_post.detach().cpu(),\n",
    "                     mel_lengths.detach().cpu(),\n",
    "                     iteration//hparams.accumulation, 'Validation')\n",
    "    \n",
    "    writer.add_alignments(enc_alignments.detach().cpu(),\n",
    "                          dec_alignments.detach().cpu(),\n",
    "                          enc_dec_alignments.detach().cpu(),\n",
    "                          text_padded.detach().cpu(),\n",
    "                          mel_lengths.detach().cpu(),\n",
    "                          text_lengths.detach().cpu(),\n",
    "                          iteration//hparams.accumulation, 'Validation')\n",
    "    \n",
    "    writer.add_gates(gate_out.detach().cpu(),\n",
    "                    iteration//hparams.accumulation, 'Validation')\n",
    "    model.train()"
   ]
  }
 ],
 "metadata": {
  "kernelspec": {
   "display_name": "Environment (conda_pytorch_p36)",
   "language": "python",
   "name": "conda_pytorch_p36"
  },
  "language_info": {
   "codemirror_mode": {
    "name": "ipython",
    "version": 3
   },
   "file_extension": ".py",
   "mimetype": "text/x-python",
   "name": "python",
   "nbconvert_exporter": "python",
   "pygments_lexer": "ipython3",
   "version": "3.6.5"
  }
 },
 "nbformat": 4,
 "nbformat_minor": 2
}
