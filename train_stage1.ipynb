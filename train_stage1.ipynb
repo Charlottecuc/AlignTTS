{
 "cells": [
  {
   "cell_type": "code",
   "execution_count": 1,
   "metadata": {
    "scrolled": true
   },
   "outputs": [],
   "source": [
    "import os, argparse\n",
    "import torch\n",
    "import torch.nn as nn\n",
    "import torch.nn.functional as F\n",
    "from modules.model import Model\n",
    "from modules.loss import MDNLoss\n",
    "import hparams\n",
    "from text import *\n",
    "from utils.utils import *\n",
    "from utils.writer import get_writer\n",
    "from torch.utils.tensorboard import SummaryWriter\n",
    "import math\n",
    "import matplotlib.pyplot as plt\n",
    "\n",
    "\n",
    "os.environ[\"CUDA_VISIBLE_DEVICES\"]='0, 1'\n",
    "torch.manual_seed(hparams.seed)\n",
    "torch.cuda.manual_seed(hparams.seed)\n",
    "\n",
    "train_loader, val_loader, collate_fn = prepare_dataloaders(hparams, stage=1)\n",
    "\n",
    "checkpoint_path = f\"training_log/aligntts/stage0/checkpoint_40000\"\n",
    "state_dict = {}\n",
    "for k, v in torch.load(checkpoint_path)['state_dict'].items():\n",
    "    state_dict[k[7:]]=v\n",
    "\n",
    "model = Model(hparams).cuda()\n",
    "model.load_state_dict(state_dict)\n",
    "model = nn.DataParallel(model).cuda()\n",
    "\n",
    "criterion = MDNLoss()\n",
    "writer = get_writer(hparams.output_directory, f'{hparams.log_directory}/stage1')\n",
    "optimizer = torch.optim.Adam(model.parameters(),\n",
    "                             lr=hparams.lr,\n",
    "                             betas=(0.9, 0.98),\n",
    "                             eps=1e-09)\n",
    "\n",
    "\n",
    "def validate(model, criterion, val_loader, iteration, writer):\n",
    "    model.eval()\n",
    "    with torch.no_grad():\n",
    "        n_data, val_loss = 0, 0\n",
    "        for i, batch in enumerate(val_loader):\n",
    "            n_data += len(batch[0])\n",
    "            text_padded, mel_padded, align_padded, text_lengths, mel_lengths = [\n",
    "                reorder_batch(x, hparams.n_gpus).cuda() for x in batch\n",
    "            ]\n",
    "\n",
    "            encoder_input = model.module.Prenet(text_padded)\n",
    "            hidden_states, _ = model.module.FFT_lower(encoder_input, text_lengths)\n",
    "            mel_out = model.module.get_melspec(hidden_states, align_padded, mel_lengths)\n",
    "            fft_loss = nn.L1Loss()(mel_out, mel_padded)\n",
    "            val_loss += fft_loss.item() * len(batch[0])\n",
    "\n",
    "        val_loss /= n_data\n",
    "\n",
    "    writer.add_scalar('Validation loss', val_loss, iteration//hparams.accumulation)\n",
    "    writer.add_specs(mel_padded[0].detach().cpu(),\n",
    "                     mel_out[0].detach().cpu(),\n",
    "                     iteration//hparams.accumulation, 'Validation')\n",
    "            \n",
    "    model.train()"
   ]
  },
  {
   "cell_type": "code",
   "execution_count": 2,
   "metadata": {
    "scrolled": false
   },
   "outputs": [
    {
     "name": "stderr",
     "output_type": "stream",
     "text": [
      "/home/ubuntu/anaconda3/envs/pytorch_p36/AlignTTS/utils/utils.py:43: UserWarning: To copy construct from a tensor, it is recommended to use sourceTensor.clone().detach() or sourceTensor.clone().detach().requires_grad_(True), rather than tensor.new_tensor(sourceTensor).\n",
      "  ids = lengths.new_tensor(torch.arange(0, max_len))\n",
      "/home/ubuntu/anaconda3/envs/pytorch_p36/lib/python3.6/site-packages/torch/nn/parallel/_functions.py:61: UserWarning: Was asked to gather along dimension 0, but all input tensors were scalars; will instead unsqueeze and return a vector.\n",
      "  warnings.warn('Was asked to gather along dimension 0, but all '\n"
     ]
    },
    {
     "name": "stdout",
     "output_type": "stream",
     "text": [
      "Saving model and optimizer state at iteration 10000 to training_log/aligntts/stage1\n",
      "Saving model and optimizer state at iteration 20000 to training_log/aligntts/stage1\n",
      "Saving model and optimizer state at iteration 30000 to training_log/aligntts/stage1\n",
      "Saving model and optimizer state at iteration 40000 to training_log/aligntts/stage1\n"
     ]
    }
   ],
   "source": [
    "iteration, loss = 0, 0\n",
    "model.train()\n",
    "\n",
    "while True:\n",
    "    for i, batch in enumerate(train_loader):\n",
    "        text_padded, mel_padded, align_padded, text_lengths, mel_lengths = [\n",
    "            reorder_batch(x, hparams.n_gpus).cuda() for x in batch\n",
    "        ]\n",
    "\n",
    "        fft_loss = model(text_padded,\n",
    "                         mel_padded,\n",
    "                         align_padded,\n",
    "                         text_lengths,\n",
    "                         mel_lengths,\n",
    "                         criterion,\n",
    "                         stage=1)\n",
    "        sub_loss = fft_loss.mean()/hparams.accumulation\n",
    "        sub_loss.backward()\n",
    "        loss = loss+sub_loss.item()\n",
    "        iteration += 1\n",
    "        \n",
    "        if iteration%hparams.accumulation == 0:\n",
    "            lr_scheduling(optimizer, iteration//hparams.accumulation)\n",
    "            nn.utils.clip_grad_norm_(model.parameters(), hparams.grad_clip_thresh)\n",
    "            optimizer.step()\n",
    "            model.zero_grad()\n",
    "            writer.add_scalar('Train loss', loss, iteration//hparams.accumulation)\n",
    "            loss=0\n",
    "\n",
    "        if iteration%(hparams.iters_per_validation*hparams.accumulation)==0:\n",
    "            validate(model, criterion, val_loader, iteration, writer)\n",
    "\n",
    "        if iteration%(hparams.iters_per_checkpoint*hparams.accumulation)==0:\n",
    "            save_checkpoint(model,\n",
    "                            optimizer,\n",
    "                            hparams.lr,\n",
    "                            iteration//hparams.accumulation,\n",
    "                            filepath=f'{hparams.output_directory}/{hparams.log_directory}/stage1')\n",
    "\n",
    "        if iteration==(hparams.train_steps[1]*hparams.accumulation):\n",
    "            break\n",
    "            \n",
    "    if iteration==(hparams.train_steps[1]*hparams.accumulation):\n",
    "        break"
   ]
  }
 ],
 "metadata": {
  "kernelspec": {
   "display_name": "Environment (conda_pytorch_p36)",
   "language": "python",
   "name": "conda_pytorch_p36"
  },
  "language_info": {
   "codemirror_mode": {
    "name": "ipython",
    "version": 3
   },
   "file_extension": ".py",
   "mimetype": "text/x-python",
   "name": "python",
   "nbconvert_exporter": "python",
   "pygments_lexer": "ipython3",
   "version": "3.6.5"
  }
 },
 "nbformat": 4,
 "nbformat_minor": 2
}
